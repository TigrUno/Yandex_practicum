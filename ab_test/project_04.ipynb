{
 "cells": [
  {
   "cell_type": "markdown",
   "id": "81b1a3e4",
   "metadata": {},
   "source": [
    "# Проект \"проверка гипотез для интернет-магазина\""
   ]
  },
  {
   "cell_type": "markdown",
   "id": "555eb037",
   "metadata": {},
   "source": [
    "#  [Введение](#back)\n",
    "<a id='start'></a>\n",
    "\n",
    "Мы в роле аналитиков крупного интернет-магазина. Вместе с отделом маркетинга мы подготовили список гипотез для увеличения выручки.\n",
    "Необходимо приоритизировать гипотезы, запустить A/B-тест и проанализировать результаты.\n",
    "\n",
    "Для выполнения проекта необходимо сделать следующие шаги:\n",
    "\n",
    "\n",
    "1. Приоритизация гипотез.\n",
    "\n",
    "Применим фреймворки ICE и RICE для приоритизации гипотез. Оценим, как изменилась приоритизация гипотез при применении RICE вместо ICE. Объясним, почему это произошло. \n",
    "\n",
    "\n",
    "2. Проведем анализ A/B-теста\n",
    "\n",
    "\n",
    "- Построим график кумулятивной выручки по группам. \n",
    "- Построим график кумулятивного среднего чека по группам. \n",
    "- Построим график относительного изменения кумулятивного среднего чека группы B к группе A. \n",
    "- Построим график кумулятивной конверсии по группам. \n",
    "- Построим график относительного изменения кумулятивной конверсии группы B к группе A. \n",
    "- Построим точечный график количества заказов по пользователям. \n",
    "- Посчитаем 95-й и 99-й перцентили количества заказов на пользователя. Выберем границу для определения аномальных пользователей.\n",
    "- Построим точечный график стоимостей заказов. \n",
    "- Посчитаем 95-й и 99-й перцентили стоимости заказов. Выберем границу для определения аномальных заказов.\n",
    "- Посчитаем статистическую значимость различий в конверсии между группами по «сырым» данным. \n",
    "- Посчитаем статистическую значимость различий в среднем чеке заказа между группами по «сырым» данным. \n",
    "- Посчитаем статистическую значимость различий в конверсии между группами по «очищенным» данным. \n",
    "- Посчитаем статистическую значимость различий в среднем чеке заказа между группами по «очищенным» данным. \n",
    "- Сделаем выводы и предположения для КАЖДОГО пункта анализа.\n",
    "- Примем решение по результатам теста и объясним его. "
   ]
  },
  {
   "cell_type": "markdown",
   "id": "f5470e3e",
   "metadata": {},
   "source": [
    "#   [Оглавление](#back)\n",
    "<a id='back'></a>\n",
    "- [Введение](#start)\n",
    "- [Общая информация и предобработка данных](#info)\n",
    "- [Приоретизация гипотез](#prioritization)\n",
    "- [Анализ A/B-теста](#analit)\n",
    "- [Общий вывод](#end)"
   ]
  },
  {
   "cell_type": "markdown",
   "id": "f8345891",
   "metadata": {},
   "source": [
    "#  [Общая информация и предобработка данных](#back)\n",
    "<a id='info'></a>"
   ]
  },
  {
   "cell_type": "code",
   "execution_count": 1,
   "id": "a337d7fb",
   "metadata": {},
   "outputs": [],
   "source": [
    "#импортируем необхоимые библиотеки\n",
    "import pandas as pd \n",
    "import seaborn as sns\n",
    "import datetime as dt\n",
    "import matplotlib.pyplot as plt\n",
    "%matplotlib inline\n",
    "\n",
    "import numpy as np\n",
    "import scipy.stats as stats\n",
    "from datetime import datetime, timedelta\n",
    "\n",
    "#cразу сделаем графики чуть больше и красивее\n",
    "from pylab import rcParams\n",
    "rcParams['figure.figsize'] = 15, 7 \n",
    "sns.set_style(\"darkgrid\")\n",
    "\n",
    "#сохраним данные\n",
    "visitors = pd.read_csv('visitors.csv')\n",
    "orders = pd.read_csv('orders.csv')\n",
    "hypothesis = pd.read_csv('hypothesis.csv')\n",
    "    \n"
   ]
  },
  {
   "cell_type": "markdown",
   "id": "a06aa92d",
   "metadata": {},
   "source": [
    "### Датафрейм visitors"
   ]
  },
  {
   "cell_type": "markdown",
   "id": "737160c3",
   "metadata": {},
   "source": [
    "Оценим данные:"
   ]
  },
  {
   "cell_type": "code",
   "execution_count": 2,
   "id": "a6c95fc7",
   "metadata": {},
   "outputs": [
    {
     "name": "stdout",
     "output_type": "stream",
     "text": [
      "<class 'pandas.core.frame.DataFrame'>\n",
      "RangeIndex: 62 entries, 0 to 61\n",
      "Data columns (total 3 columns):\n",
      " #   Column    Non-Null Count  Dtype \n",
      "---  ------    --------------  ----- \n",
      " 0   date      62 non-null     object\n",
      " 1   group     62 non-null     object\n",
      " 2   visitors  62 non-null     int64 \n",
      "dtypes: int64(1), object(2)\n",
      "memory usage: 1.6+ KB\n"
     ]
    }
   ],
   "source": [
    "visitors.info()"
   ]
  },
  {
   "cell_type": "code",
   "execution_count": 3,
   "id": "bb29723d",
   "metadata": {},
   "outputs": [
    {
     "data": {
      "text/html": [
       "<div>\n",
       "<style scoped>\n",
       "    .dataframe tbody tr th:only-of-type {\n",
       "        vertical-align: middle;\n",
       "    }\n",
       "\n",
       "    .dataframe tbody tr th {\n",
       "        vertical-align: top;\n",
       "    }\n",
       "\n",
       "    .dataframe thead th {\n",
       "        text-align: right;\n",
       "    }\n",
       "</style>\n",
       "<table border=\"1\" class=\"dataframe\">\n",
       "  <thead>\n",
       "    <tr style=\"text-align: right;\">\n",
       "      <th></th>\n",
       "      <th>date</th>\n",
       "      <th>group</th>\n",
       "      <th>visitors</th>\n",
       "    </tr>\n",
       "  </thead>\n",
       "  <tbody>\n",
       "    <tr>\n",
       "      <th>0</th>\n",
       "      <td>2019-08-01</td>\n",
       "      <td>A</td>\n",
       "      <td>719</td>\n",
       "    </tr>\n",
       "    <tr>\n",
       "      <th>1</th>\n",
       "      <td>2019-08-02</td>\n",
       "      <td>A</td>\n",
       "      <td>619</td>\n",
       "    </tr>\n",
       "    <tr>\n",
       "      <th>2</th>\n",
       "      <td>2019-08-03</td>\n",
       "      <td>A</td>\n",
       "      <td>507</td>\n",
       "    </tr>\n",
       "    <tr>\n",
       "      <th>3</th>\n",
       "      <td>2019-08-04</td>\n",
       "      <td>A</td>\n",
       "      <td>717</td>\n",
       "    </tr>\n",
       "    <tr>\n",
       "      <th>4</th>\n",
       "      <td>2019-08-05</td>\n",
       "      <td>A</td>\n",
       "      <td>756</td>\n",
       "    </tr>\n",
       "  </tbody>\n",
       "</table>\n",
       "</div>"
      ],
      "text/plain": [
       "         date group  visitors\n",
       "0  2019-08-01     A       719\n",
       "1  2019-08-02     A       619\n",
       "2  2019-08-03     A       507\n",
       "3  2019-08-04     A       717\n",
       "4  2019-08-05     A       756"
      ]
     },
     "execution_count": 3,
     "metadata": {},
     "output_type": "execute_result"
    }
   ],
   "source": [
    "visitors.head()"
   ]
  },
  {
   "cell_type": "markdown",
   "id": "5a4bcea7",
   "metadata": {},
   "source": [
    "Приведем обозначения групп к верхнему регистру, а столбец с датами к нужному типу:\n"
   ]
  },
  {
   "cell_type": "code",
   "execution_count": 4,
   "id": "3f9ca377",
   "metadata": {},
   "outputs": [],
   "source": [
    "visitors['group'] = visitors['group'].str.upper()\n",
    "visitors['date'] = visitors['date'].map(lambda x: dt.datetime.strptime(x, '%Y-%m-%d'))"
   ]
  },
  {
   "cell_type": "markdown",
   "id": "86fe6260",
   "metadata": {},
   "source": [
    "Оценим наличие дубликатов:"
   ]
  },
  {
   "cell_type": "code",
   "execution_count": 5,
   "id": "54fb4f60",
   "metadata": {
    "scrolled": true
   },
   "outputs": [
    {
     "name": "stdout",
     "output_type": "stream",
     "text": [
      "0\n",
      "date        0\n",
      "group       0\n",
      "visitors    0\n",
      "dtype: int64\n"
     ]
    }
   ],
   "source": [
    "print(visitors.duplicated().sum())\n",
    "print(visitors.isna().sum())"
   ]
  },
  {
   "cell_type": "markdown",
   "id": "ee6e3fe3",
   "metadata": {},
   "source": [
    "Посмотрим на измененные данные:"
   ]
  },
  {
   "cell_type": "code",
   "execution_count": 6,
   "id": "ae63b4ad",
   "metadata": {},
   "outputs": [
    {
     "name": "stdout",
     "output_type": "stream",
     "text": [
      "<class 'pandas.core.frame.DataFrame'>\n",
      "RangeIndex: 62 entries, 0 to 61\n",
      "Data columns (total 3 columns):\n",
      " #   Column    Non-Null Count  Dtype         \n",
      "---  ------    --------------  -----         \n",
      " 0   date      62 non-null     datetime64[ns]\n",
      " 1   group     62 non-null     object        \n",
      " 2   visitors  62 non-null     int64         \n",
      "dtypes: datetime64[ns](1), int64(1), object(1)\n",
      "memory usage: 1.6+ KB\n"
     ]
    }
   ],
   "source": [
    "visitors.info()"
   ]
  },
  {
   "cell_type": "code",
   "execution_count": 7,
   "id": "0aabdeea",
   "metadata": {
    "scrolled": true
   },
   "outputs": [
    {
     "data": {
      "text/html": [
       "<div>\n",
       "<style scoped>\n",
       "    .dataframe tbody tr th:only-of-type {\n",
       "        vertical-align: middle;\n",
       "    }\n",
       "\n",
       "    .dataframe tbody tr th {\n",
       "        vertical-align: top;\n",
       "    }\n",
       "\n",
       "    .dataframe thead th {\n",
       "        text-align: right;\n",
       "    }\n",
       "</style>\n",
       "<table border=\"1\" class=\"dataframe\">\n",
       "  <thead>\n",
       "    <tr style=\"text-align: right;\">\n",
       "      <th></th>\n",
       "      <th>date</th>\n",
       "      <th>group</th>\n",
       "      <th>visitors</th>\n",
       "    </tr>\n",
       "  </thead>\n",
       "  <tbody>\n",
       "    <tr>\n",
       "      <th>0</th>\n",
       "      <td>2019-08-01</td>\n",
       "      <td>A</td>\n",
       "      <td>719</td>\n",
       "    </tr>\n",
       "    <tr>\n",
       "      <th>1</th>\n",
       "      <td>2019-08-02</td>\n",
       "      <td>A</td>\n",
       "      <td>619</td>\n",
       "    </tr>\n",
       "    <tr>\n",
       "      <th>2</th>\n",
       "      <td>2019-08-03</td>\n",
       "      <td>A</td>\n",
       "      <td>507</td>\n",
       "    </tr>\n",
       "    <tr>\n",
       "      <th>3</th>\n",
       "      <td>2019-08-04</td>\n",
       "      <td>A</td>\n",
       "      <td>717</td>\n",
       "    </tr>\n",
       "    <tr>\n",
       "      <th>4</th>\n",
       "      <td>2019-08-05</td>\n",
       "      <td>A</td>\n",
       "      <td>756</td>\n",
       "    </tr>\n",
       "  </tbody>\n",
       "</table>\n",
       "</div>"
      ],
      "text/plain": [
       "        date group  visitors\n",
       "0 2019-08-01     A       719\n",
       "1 2019-08-02     A       619\n",
       "2 2019-08-03     A       507\n",
       "3 2019-08-04     A       717\n",
       "4 2019-08-05     A       756"
      ]
     },
     "execution_count": 7,
     "metadata": {},
     "output_type": "execute_result"
    }
   ],
   "source": [
    "visitors.head()"
   ]
  },
  {
   "cell_type": "markdown",
   "id": "bb1056a8",
   "metadata": {},
   "source": [
    "### Датафрейм orders"
   ]
  },
  {
   "cell_type": "markdown",
   "id": "990d7f2c",
   "metadata": {},
   "source": [
    "Оценим данные:"
   ]
  },
  {
   "cell_type": "code",
   "execution_count": 8,
   "id": "c8b2b298",
   "metadata": {},
   "outputs": [
    {
     "name": "stdout",
     "output_type": "stream",
     "text": [
      "<class 'pandas.core.frame.DataFrame'>\n",
      "RangeIndex: 1197 entries, 0 to 1196\n",
      "Data columns (total 5 columns):\n",
      " #   Column         Non-Null Count  Dtype \n",
      "---  ------         --------------  ----- \n",
      " 0   transactionId  1197 non-null   int64 \n",
      " 1   visitorId      1197 non-null   int64 \n",
      " 2   date           1197 non-null   object\n",
      " 3   revenue        1197 non-null   int64 \n",
      " 4   group          1197 non-null   object\n",
      "dtypes: int64(3), object(2)\n",
      "memory usage: 46.9+ KB\n"
     ]
    }
   ],
   "source": [
    "orders.info()"
   ]
  },
  {
   "cell_type": "code",
   "execution_count": 9,
   "id": "98c2b4a7",
   "metadata": {
    "scrolled": true
   },
   "outputs": [
    {
     "data": {
      "text/html": [
       "<div>\n",
       "<style scoped>\n",
       "    .dataframe tbody tr th:only-of-type {\n",
       "        vertical-align: middle;\n",
       "    }\n",
       "\n",
       "    .dataframe tbody tr th {\n",
       "        vertical-align: top;\n",
       "    }\n",
       "\n",
       "    .dataframe thead th {\n",
       "        text-align: right;\n",
       "    }\n",
       "</style>\n",
       "<table border=\"1\" class=\"dataframe\">\n",
       "  <thead>\n",
       "    <tr style=\"text-align: right;\">\n",
       "      <th></th>\n",
       "      <th>transactionId</th>\n",
       "      <th>visitorId</th>\n",
       "      <th>date</th>\n",
       "      <th>revenue</th>\n",
       "      <th>group</th>\n",
       "    </tr>\n",
       "  </thead>\n",
       "  <tbody>\n",
       "    <tr>\n",
       "      <th>0</th>\n",
       "      <td>3667963787</td>\n",
       "      <td>3312258926</td>\n",
       "      <td>2019-08-15</td>\n",
       "      <td>1650</td>\n",
       "      <td>B</td>\n",
       "    </tr>\n",
       "    <tr>\n",
       "      <th>1</th>\n",
       "      <td>2804400009</td>\n",
       "      <td>3642806036</td>\n",
       "      <td>2019-08-15</td>\n",
       "      <td>730</td>\n",
       "      <td>B</td>\n",
       "    </tr>\n",
       "    <tr>\n",
       "      <th>2</th>\n",
       "      <td>2961555356</td>\n",
       "      <td>4069496402</td>\n",
       "      <td>2019-08-15</td>\n",
       "      <td>400</td>\n",
       "      <td>A</td>\n",
       "    </tr>\n",
       "    <tr>\n",
       "      <th>3</th>\n",
       "      <td>3797467345</td>\n",
       "      <td>1196621759</td>\n",
       "      <td>2019-08-15</td>\n",
       "      <td>9759</td>\n",
       "      <td>B</td>\n",
       "    </tr>\n",
       "    <tr>\n",
       "      <th>4</th>\n",
       "      <td>2282983706</td>\n",
       "      <td>2322279887</td>\n",
       "      <td>2019-08-15</td>\n",
       "      <td>2308</td>\n",
       "      <td>B</td>\n",
       "    </tr>\n",
       "  </tbody>\n",
       "</table>\n",
       "</div>"
      ],
      "text/plain": [
       "   transactionId   visitorId        date  revenue group\n",
       "0     3667963787  3312258926  2019-08-15     1650     B\n",
       "1     2804400009  3642806036  2019-08-15      730     B\n",
       "2     2961555356  4069496402  2019-08-15      400     A\n",
       "3     3797467345  1196621759  2019-08-15     9759     B\n",
       "4     2282983706  2322279887  2019-08-15     2308     B"
      ]
     },
     "execution_count": 9,
     "metadata": {},
     "output_type": "execute_result"
    }
   ],
   "source": [
    "orders.head()"
   ]
  },
  {
   "cell_type": "markdown",
   "id": "e7ef0ce6",
   "metadata": {},
   "source": [
    "Привдем названия и столбец с датами к удобному виду:"
   ]
  },
  {
   "cell_type": "code",
   "execution_count": 10,
   "id": "81f3be5b",
   "metadata": {},
   "outputs": [],
   "source": [
    "orders = orders.rename(columns={\"transactionId\": \"transaction_id\", \n",
    "                                \"visitorId\": \"visitor_id\"})\n",
    "orders['group'] = orders['group'].str.upper()\n",
    "orders['date'] = orders['date'].map(lambda x: dt.datetime.strptime(x, '%Y-%m-%d'))"
   ]
  },
  {
   "cell_type": "markdown",
   "id": "c829a5d9",
   "metadata": {},
   "source": [
    "Ищем дубликаты:"
   ]
  },
  {
   "cell_type": "code",
   "execution_count": 11,
   "id": "1b9cf5b1",
   "metadata": {
    "scrolled": false
   },
   "outputs": [
    {
     "name": "stdout",
     "output_type": "stream",
     "text": [
      "0\n",
      "transaction_id    0\n",
      "visitor_id        0\n",
      "date              0\n",
      "revenue           0\n",
      "group             0\n",
      "dtype: int64\n"
     ]
    }
   ],
   "source": [
    "print(orders.duplicated().sum())\n",
    "print(orders.isna().sum())"
   ]
  },
  {
   "cell_type": "markdown",
   "id": "a524b056",
   "metadata": {},
   "source": [
    "Проверяем:"
   ]
  },
  {
   "cell_type": "code",
   "execution_count": 12,
   "id": "2e8b1e06",
   "metadata": {},
   "outputs": [
    {
     "name": "stdout",
     "output_type": "stream",
     "text": [
      "<class 'pandas.core.frame.DataFrame'>\n",
      "RangeIndex: 1197 entries, 0 to 1196\n",
      "Data columns (total 5 columns):\n",
      " #   Column          Non-Null Count  Dtype         \n",
      "---  ------          --------------  -----         \n",
      " 0   transaction_id  1197 non-null   int64         \n",
      " 1   visitor_id      1197 non-null   int64         \n",
      " 2   date            1197 non-null   datetime64[ns]\n",
      " 3   revenue         1197 non-null   int64         \n",
      " 4   group           1197 non-null   object        \n",
      "dtypes: datetime64[ns](1), int64(3), object(1)\n",
      "memory usage: 46.9+ KB\n"
     ]
    }
   ],
   "source": [
    "orders.info()"
   ]
  },
  {
   "cell_type": "code",
   "execution_count": 13,
   "id": "839ef6c6",
   "metadata": {},
   "outputs": [
    {
     "data": {
      "text/html": [
       "<div>\n",
       "<style scoped>\n",
       "    .dataframe tbody tr th:only-of-type {\n",
       "        vertical-align: middle;\n",
       "    }\n",
       "\n",
       "    .dataframe tbody tr th {\n",
       "        vertical-align: top;\n",
       "    }\n",
       "\n",
       "    .dataframe thead th {\n",
       "        text-align: right;\n",
       "    }\n",
       "</style>\n",
       "<table border=\"1\" class=\"dataframe\">\n",
       "  <thead>\n",
       "    <tr style=\"text-align: right;\">\n",
       "      <th></th>\n",
       "      <th>transaction_id</th>\n",
       "      <th>visitor_id</th>\n",
       "      <th>date</th>\n",
       "      <th>revenue</th>\n",
       "      <th>group</th>\n",
       "    </tr>\n",
       "  </thead>\n",
       "  <tbody>\n",
       "    <tr>\n",
       "      <th>0</th>\n",
       "      <td>3667963787</td>\n",
       "      <td>3312258926</td>\n",
       "      <td>2019-08-15</td>\n",
       "      <td>1650</td>\n",
       "      <td>B</td>\n",
       "    </tr>\n",
       "    <tr>\n",
       "      <th>1</th>\n",
       "      <td>2804400009</td>\n",
       "      <td>3642806036</td>\n",
       "      <td>2019-08-15</td>\n",
       "      <td>730</td>\n",
       "      <td>B</td>\n",
       "    </tr>\n",
       "    <tr>\n",
       "      <th>2</th>\n",
       "      <td>2961555356</td>\n",
       "      <td>4069496402</td>\n",
       "      <td>2019-08-15</td>\n",
       "      <td>400</td>\n",
       "      <td>A</td>\n",
       "    </tr>\n",
       "    <tr>\n",
       "      <th>3</th>\n",
       "      <td>3797467345</td>\n",
       "      <td>1196621759</td>\n",
       "      <td>2019-08-15</td>\n",
       "      <td>9759</td>\n",
       "      <td>B</td>\n",
       "    </tr>\n",
       "    <tr>\n",
       "      <th>4</th>\n",
       "      <td>2282983706</td>\n",
       "      <td>2322279887</td>\n",
       "      <td>2019-08-15</td>\n",
       "      <td>2308</td>\n",
       "      <td>B</td>\n",
       "    </tr>\n",
       "  </tbody>\n",
       "</table>\n",
       "</div>"
      ],
      "text/plain": [
       "   transaction_id  visitor_id       date  revenue group\n",
       "0      3667963787  3312258926 2019-08-15     1650     B\n",
       "1      2804400009  3642806036 2019-08-15      730     B\n",
       "2      2961555356  4069496402 2019-08-15      400     A\n",
       "3      3797467345  1196621759 2019-08-15     9759     B\n",
       "4      2282983706  2322279887 2019-08-15     2308     B"
      ]
     },
     "execution_count": 13,
     "metadata": {},
     "output_type": "execute_result"
    }
   ],
   "source": [
    "orders.head()"
   ]
  },
  {
   "cell_type": "markdown",
   "id": "96c52e51",
   "metadata": {},
   "source": [
    "Данные чистые, посмотрим на  них внимательнее. Оценим группы на к-во участников, их пересечение и на период проведения теста:"
   ]
  },
  {
   "cell_type": "markdown",
   "id": "df5860d6",
   "metadata": {},
   "source": [
    "Посмторим на даты начала и окончания теста:"
   ]
  },
  {
   "cell_type": "code",
   "execution_count": 14,
   "id": "ee6091c4",
   "metadata": {},
   "outputs": [
    {
     "data": {
      "text/plain": [
       "count                             1197\n",
       "mean     2019-08-15 13:06:46.015037696\n",
       "min                2019-08-01 00:00:00\n",
       "25%                2019-08-08 00:00:00\n",
       "50%                2019-08-15 00:00:00\n",
       "75%                2019-08-23 00:00:00\n",
       "max                2019-08-31 00:00:00\n",
       "Name: date, dtype: object"
      ]
     },
     "execution_count": 14,
     "metadata": {},
     "output_type": "execute_result"
    }
   ],
   "source": [
    "orders[\"date\"].describe(datetime_is_numeric=True)"
   ]
  },
  {
   "cell_type": "markdown",
   "id": "18369b23",
   "metadata": {},
   "source": [
    "Даты в порядке, посмотрим на число уникальных участников:"
   ]
  },
  {
   "cell_type": "code",
   "execution_count": 15,
   "id": "96d29bf1",
   "metadata": {},
   "outputs": [
    {
     "data": {
      "text/plain": [
       "1031"
      ]
     },
     "execution_count": 15,
     "metadata": {},
     "output_type": "execute_result"
    }
   ],
   "source": [
    "orders['visitor_id'].nunique()"
   ]
  },
  {
   "cell_type": "markdown",
   "id": "d2cfd8bd",
   "metadata": {},
   "source": [
    "И на к-во участников по группам:"
   ]
  },
  {
   "cell_type": "code",
   "execution_count": 16,
   "id": "bd3a0b3b",
   "metadata": {},
   "outputs": [
    {
     "data": {
      "text/plain": [
       "B    640\n",
       "A    557\n",
       "Name: group, dtype: int64"
      ]
     },
     "execution_count": 16,
     "metadata": {},
     "output_type": "execute_result"
    }
   ],
   "source": [
    "orders['group'].value_counts()"
   ]
  },
  {
   "cell_type": "markdown",
   "id": "c4a0108c",
   "metadata": {},
   "source": [
    "Группа B немного больше группы А, но это не критично. Однако в сумме обе группы дают больше пользователей, чем должно быть, если судить по уникальным значениям. Значит - некоторые пользователи попали в обе группы. "
   ]
  },
  {
   "cell_type": "code",
   "execution_count": 17,
   "id": "a02c2eca",
   "metadata": {
    "scrolled": false
   },
   "outputs": [
    {
     "name": "stdout",
     "output_type": "stream",
     "text": [
      "[4069496402  199603092 3803269165 2378935119  237748145 4256040402\n",
      " 2038680547 1738359350 2458001652 3891541246 2716752286 3656415546\n",
      " 2686716486 2954449915 2927087541 3234906277  457167155 2579882178\n",
      " 3957174400 1648269707 2780786433  818047933 2044997962 1959144690\n",
      " 3202540741 1333886533  351125977 3951559397  393266494 3984495233\n",
      " 4120364173 4266935830 1230306981 1294878855 1614305549    8300375\n",
      "  477780734 1668030113 3717692402 3766097110 3941795274  471551937\n",
      " 1316129916 1801183820 1602967004 2587333274 2600415354  232979603\n",
      " 3972127743 1404934699  276558944 3062433592 2654030115 3963646447\n",
      " 4186807279 2712142231 2949041841  963407295]\n"
     ]
    }
   ],
   "source": [
    "orders_a=orders.query('group == \"A\"')\n",
    "orders_b=orders.query('group == \"B\"')\n",
    "orders_both = pd.merge(orders_a, orders_b, how='inner', on='visitor_id')\n",
    "orders_both_list=orders_both['visitor_id'].unique()\n",
    "print(orders_both_list)"
   ]
  },
  {
   "cell_type": "markdown",
   "id": "ff7bd257",
   "metadata": {},
   "source": [
    "Пользователи в этом списке (58 человек) попали в оба сегмента. Стоит избавиться от них для большей точности."
   ]
  },
  {
   "cell_type": "code",
   "execution_count": 18,
   "id": "c2e80ebe",
   "metadata": {},
   "outputs": [],
   "source": [
    "#orders = orders.query('visitor_id not in @orders_both_list')"
   ]
  },
  {
   "cell_type": "markdown",
   "id": "fea8df80",
   "metadata": {},
   "source": [
    "### Датафрейм hypothesis"
   ]
  },
  {
   "cell_type": "markdown",
   "id": "442c37c8",
   "metadata": {},
   "source": [
    "Оцениваем данные:"
   ]
  },
  {
   "cell_type": "code",
   "execution_count": 19,
   "id": "86998b52",
   "metadata": {},
   "outputs": [
    {
     "name": "stdout",
     "output_type": "stream",
     "text": [
      "<class 'pandas.core.frame.DataFrame'>\n",
      "RangeIndex: 9 entries, 0 to 8\n",
      "Data columns (total 5 columns):\n",
      " #   Column      Non-Null Count  Dtype \n",
      "---  ------      --------------  ----- \n",
      " 0   Hypothesis  9 non-null      object\n",
      " 1   Reach       9 non-null      int64 \n",
      " 2   Impact      9 non-null      int64 \n",
      " 3   Confidence  9 non-null      int64 \n",
      " 4   Efforts     9 non-null      int64 \n",
      "dtypes: int64(4), object(1)\n",
      "memory usage: 488.0+ bytes\n"
     ]
    }
   ],
   "source": [
    "hypothesis.info()"
   ]
  },
  {
   "cell_type": "code",
   "execution_count": 20,
   "id": "59cc2087",
   "metadata": {
    "scrolled": true
   },
   "outputs": [
    {
     "data": {
      "text/html": [
       "<div>\n",
       "<style scoped>\n",
       "    .dataframe tbody tr th:only-of-type {\n",
       "        vertical-align: middle;\n",
       "    }\n",
       "\n",
       "    .dataframe tbody tr th {\n",
       "        vertical-align: top;\n",
       "    }\n",
       "\n",
       "    .dataframe thead th {\n",
       "        text-align: right;\n",
       "    }\n",
       "</style>\n",
       "<table border=\"1\" class=\"dataframe\">\n",
       "  <thead>\n",
       "    <tr style=\"text-align: right;\">\n",
       "      <th></th>\n",
       "      <th>Hypothesis</th>\n",
       "      <th>Reach</th>\n",
       "      <th>Impact</th>\n",
       "      <th>Confidence</th>\n",
       "      <th>Efforts</th>\n",
       "    </tr>\n",
       "  </thead>\n",
       "  <tbody>\n",
       "    <tr>\n",
       "      <th>0</th>\n",
       "      <td>Добавить два новых канала привлечения трафика,...</td>\n",
       "      <td>3</td>\n",
       "      <td>10</td>\n",
       "      <td>8</td>\n",
       "      <td>6</td>\n",
       "    </tr>\n",
       "    <tr>\n",
       "      <th>1</th>\n",
       "      <td>Запустить собственную службу доставки, что сок...</td>\n",
       "      <td>2</td>\n",
       "      <td>5</td>\n",
       "      <td>4</td>\n",
       "      <td>10</td>\n",
       "    </tr>\n",
       "    <tr>\n",
       "      <th>2</th>\n",
       "      <td>Добавить блоки рекомендаций товаров на сайт ин...</td>\n",
       "      <td>8</td>\n",
       "      <td>3</td>\n",
       "      <td>7</td>\n",
       "      <td>3</td>\n",
       "    </tr>\n",
       "    <tr>\n",
       "      <th>3</th>\n",
       "      <td>Изменить структура категорий, что увеличит кон...</td>\n",
       "      <td>8</td>\n",
       "      <td>3</td>\n",
       "      <td>3</td>\n",
       "      <td>8</td>\n",
       "    </tr>\n",
       "    <tr>\n",
       "      <th>4</th>\n",
       "      <td>Изменить цвет фона главной страницы, чтобы уве...</td>\n",
       "      <td>3</td>\n",
       "      <td>1</td>\n",
       "      <td>1</td>\n",
       "      <td>1</td>\n",
       "    </tr>\n",
       "    <tr>\n",
       "      <th>5</th>\n",
       "      <td>Добавить страницу отзывов клиентов о магазине,...</td>\n",
       "      <td>3</td>\n",
       "      <td>2</td>\n",
       "      <td>2</td>\n",
       "      <td>3</td>\n",
       "    </tr>\n",
       "    <tr>\n",
       "      <th>6</th>\n",
       "      <td>Показать на главной странице баннеры с актуаль...</td>\n",
       "      <td>5</td>\n",
       "      <td>3</td>\n",
       "      <td>8</td>\n",
       "      <td>3</td>\n",
       "    </tr>\n",
       "    <tr>\n",
       "      <th>7</th>\n",
       "      <td>Добавить форму подписки на все основные страни...</td>\n",
       "      <td>10</td>\n",
       "      <td>7</td>\n",
       "      <td>8</td>\n",
       "      <td>5</td>\n",
       "    </tr>\n",
       "    <tr>\n",
       "      <th>8</th>\n",
       "      <td>Запустить акцию, дающую скидку на товар в день...</td>\n",
       "      <td>1</td>\n",
       "      <td>9</td>\n",
       "      <td>9</td>\n",
       "      <td>5</td>\n",
       "    </tr>\n",
       "  </tbody>\n",
       "</table>\n",
       "</div>"
      ],
      "text/plain": [
       "                                          Hypothesis  Reach  Impact  \\\n",
       "0  Добавить два новых канала привлечения трафика,...      3      10   \n",
       "1  Запустить собственную службу доставки, что сок...      2       5   \n",
       "2  Добавить блоки рекомендаций товаров на сайт ин...      8       3   \n",
       "3  Изменить структура категорий, что увеличит кон...      8       3   \n",
       "4  Изменить цвет фона главной страницы, чтобы уве...      3       1   \n",
       "5  Добавить страницу отзывов клиентов о магазине,...      3       2   \n",
       "6  Показать на главной странице баннеры с актуаль...      5       3   \n",
       "7  Добавить форму подписки на все основные страни...     10       7   \n",
       "8  Запустить акцию, дающую скидку на товар в день...      1       9   \n",
       "\n",
       "   Confidence  Efforts  \n",
       "0           8        6  \n",
       "1           4       10  \n",
       "2           7        3  \n",
       "3           3        8  \n",
       "4           1        1  \n",
       "5           2        3  \n",
       "6           8        3  \n",
       "7           8        5  \n",
       "8           9        5  "
      ]
     },
     "execution_count": 20,
     "metadata": {},
     "output_type": "execute_result"
    }
   ],
   "source": [
    "hypothesis.head(10)"
   ]
  },
  {
   "cell_type": "markdown",
   "id": "11ef92c2",
   "metadata": {},
   "source": [
    "Приводим данные к удобному виду:"
   ]
  },
  {
   "cell_type": "code",
   "execution_count": 21,
   "id": "187c207e",
   "metadata": {},
   "outputs": [],
   "source": [
    "hypothesis = hypothesis.rename(str.lower, axis='columns')\n",
    "hypothesis['hypothesis'] = hypothesis['hypothesis'].str.lower()"
   ]
  },
  {
   "cell_type": "markdown",
   "id": "470b9d7a",
   "metadata": {},
   "source": [
    "Проверяем дубликаты:"
   ]
  },
  {
   "cell_type": "code",
   "execution_count": 22,
   "id": "3ae9653e",
   "metadata": {
    "scrolled": false
   },
   "outputs": [
    {
     "name": "stdout",
     "output_type": "stream",
     "text": [
      "0\n",
      "hypothesis    0\n",
      "reach         0\n",
      "impact        0\n",
      "confidence    0\n",
      "efforts       0\n",
      "dtype: int64\n"
     ]
    }
   ],
   "source": [
    "print(hypothesis.duplicated().sum())\n",
    "print(hypothesis.isna().sum())"
   ]
  },
  {
   "cell_type": "markdown",
   "id": "c933de50",
   "metadata": {},
   "source": [
    "Проверяем изменения:"
   ]
  },
  {
   "cell_type": "code",
   "execution_count": 23,
   "id": "b2a2db77",
   "metadata": {},
   "outputs": [
    {
     "name": "stdout",
     "output_type": "stream",
     "text": [
      "<class 'pandas.core.frame.DataFrame'>\n",
      "RangeIndex: 9 entries, 0 to 8\n",
      "Data columns (total 5 columns):\n",
      " #   Column      Non-Null Count  Dtype \n",
      "---  ------      --------------  ----- \n",
      " 0   hypothesis  9 non-null      object\n",
      " 1   reach       9 non-null      int64 \n",
      " 2   impact      9 non-null      int64 \n",
      " 3   confidence  9 non-null      int64 \n",
      " 4   efforts     9 non-null      int64 \n",
      "dtypes: int64(4), object(1)\n",
      "memory usage: 488.0+ bytes\n"
     ]
    }
   ],
   "source": [
    "hypothesis.info()"
   ]
  },
  {
   "cell_type": "code",
   "execution_count": 24,
   "id": "38df0964",
   "metadata": {},
   "outputs": [
    {
     "data": {
      "text/html": [
       "<div>\n",
       "<style scoped>\n",
       "    .dataframe tbody tr th:only-of-type {\n",
       "        vertical-align: middle;\n",
       "    }\n",
       "\n",
       "    .dataframe tbody tr th {\n",
       "        vertical-align: top;\n",
       "    }\n",
       "\n",
       "    .dataframe thead th {\n",
       "        text-align: right;\n",
       "    }\n",
       "</style>\n",
       "<table border=\"1\" class=\"dataframe\">\n",
       "  <thead>\n",
       "    <tr style=\"text-align: right;\">\n",
       "      <th></th>\n",
       "      <th>hypothesis</th>\n",
       "      <th>reach</th>\n",
       "      <th>impact</th>\n",
       "      <th>confidence</th>\n",
       "      <th>efforts</th>\n",
       "    </tr>\n",
       "  </thead>\n",
       "  <tbody>\n",
       "    <tr>\n",
       "      <th>0</th>\n",
       "      <td>добавить два новых канала привлечения трафика,...</td>\n",
       "      <td>3</td>\n",
       "      <td>10</td>\n",
       "      <td>8</td>\n",
       "      <td>6</td>\n",
       "    </tr>\n",
       "    <tr>\n",
       "      <th>1</th>\n",
       "      <td>запустить собственную службу доставки, что сок...</td>\n",
       "      <td>2</td>\n",
       "      <td>5</td>\n",
       "      <td>4</td>\n",
       "      <td>10</td>\n",
       "    </tr>\n",
       "    <tr>\n",
       "      <th>2</th>\n",
       "      <td>добавить блоки рекомендаций товаров на сайт ин...</td>\n",
       "      <td>8</td>\n",
       "      <td>3</td>\n",
       "      <td>7</td>\n",
       "      <td>3</td>\n",
       "    </tr>\n",
       "    <tr>\n",
       "      <th>3</th>\n",
       "      <td>изменить структура категорий, что увеличит кон...</td>\n",
       "      <td>8</td>\n",
       "      <td>3</td>\n",
       "      <td>3</td>\n",
       "      <td>8</td>\n",
       "    </tr>\n",
       "    <tr>\n",
       "      <th>4</th>\n",
       "      <td>изменить цвет фона главной страницы, чтобы уве...</td>\n",
       "      <td>3</td>\n",
       "      <td>1</td>\n",
       "      <td>1</td>\n",
       "      <td>1</td>\n",
       "    </tr>\n",
       "    <tr>\n",
       "      <th>5</th>\n",
       "      <td>добавить страницу отзывов клиентов о магазине,...</td>\n",
       "      <td>3</td>\n",
       "      <td>2</td>\n",
       "      <td>2</td>\n",
       "      <td>3</td>\n",
       "    </tr>\n",
       "    <tr>\n",
       "      <th>6</th>\n",
       "      <td>показать на главной странице баннеры с актуаль...</td>\n",
       "      <td>5</td>\n",
       "      <td>3</td>\n",
       "      <td>8</td>\n",
       "      <td>3</td>\n",
       "    </tr>\n",
       "    <tr>\n",
       "      <th>7</th>\n",
       "      <td>добавить форму подписки на все основные страни...</td>\n",
       "      <td>10</td>\n",
       "      <td>7</td>\n",
       "      <td>8</td>\n",
       "      <td>5</td>\n",
       "    </tr>\n",
       "    <tr>\n",
       "      <th>8</th>\n",
       "      <td>запустить акцию, дающую скидку на товар в день...</td>\n",
       "      <td>1</td>\n",
       "      <td>9</td>\n",
       "      <td>9</td>\n",
       "      <td>5</td>\n",
       "    </tr>\n",
       "  </tbody>\n",
       "</table>\n",
       "</div>"
      ],
      "text/plain": [
       "                                          hypothesis  reach  impact  \\\n",
       "0  добавить два новых канала привлечения трафика,...      3      10   \n",
       "1  запустить собственную службу доставки, что сок...      2       5   \n",
       "2  добавить блоки рекомендаций товаров на сайт ин...      8       3   \n",
       "3  изменить структура категорий, что увеличит кон...      8       3   \n",
       "4  изменить цвет фона главной страницы, чтобы уве...      3       1   \n",
       "5  добавить страницу отзывов клиентов о магазине,...      3       2   \n",
       "6  показать на главной странице баннеры с актуаль...      5       3   \n",
       "7  добавить форму подписки на все основные страни...     10       7   \n",
       "8  запустить акцию, дающую скидку на товар в день...      1       9   \n",
       "\n",
       "   confidence  efforts  \n",
       "0           8        6  \n",
       "1           4       10  \n",
       "2           7        3  \n",
       "3           3        8  \n",
       "4           1        1  \n",
       "5           2        3  \n",
       "6           8        3  \n",
       "7           8        5  \n",
       "8           9        5  "
      ]
     },
     "execution_count": 24,
     "metadata": {},
     "output_type": "execute_result"
    }
   ],
   "source": [
    "hypothesis.head(10)"
   ]
  },
  {
   "cell_type": "markdown",
   "id": "8ab8a2ba",
   "metadata": {},
   "source": [
    "### Вывод:\n",
    "\n",
    "- Данные просмотренны и приведены к общему стилю: строчные буквы, змеиный шрифт в названиях столбцов.\n",
    "- Изменены типы данных для параметров времени.\n",
    "- Пропуски и дубликаты отсутствуют.\n",
    "- Во всех датафреймах данные в хорошем состоянии"
   ]
  },
  {
   "cell_type": "markdown",
   "id": "39259beb",
   "metadata": {},
   "source": [
    "#  [Приоретизация гипотез](#back)\n",
    "<a id='prioritization'></a>"
   ]
  },
  {
   "cell_type": "markdown",
   "id": "52521dac",
   "metadata": {},
   "source": [
    "Приоритизируем гипотезы фреймворками ICE и RICE. Сравним результат:"
   ]
  },
  {
   "cell_type": "code",
   "execution_count": 25,
   "id": "d78acd19",
   "metadata": {
    "scrolled": true
   },
   "outputs": [
    {
     "name": "stdout",
     "output_type": "stream",
     "text": [
      "                                          hypothesis        ICE\n",
      "8  запустить акцию, дающую скидку на товар в день...  16.200000\n",
      "0  добавить два новых канала привлечения трафика,...  13.333333\n",
      "7  добавить форму подписки на все основные страни...  11.200000\n",
      "6  показать на главной странице баннеры с актуаль...   8.000000\n",
      "2  добавить блоки рекомендаций товаров на сайт ин...   7.000000\n",
      "1  запустить собственную службу доставки, что сок...   2.000000\n",
      "5  добавить страницу отзывов клиентов о магазине,...   1.333333\n",
      "3  изменить структура категорий, что увеличит кон...   1.125000\n",
      "4  изменить цвет фона главной страницы, чтобы уве...   1.000000\n"
     ]
    }
   ],
   "source": [
    "hypothesis['ICE'] = (hypothesis['impact'] * hypothesis['confidence'])/hypothesis['efforts']\n",
    "\n",
    "data_ice = pd.DataFrame()\n",
    "data_ice = data_ice.assign(hypothesis = hypothesis['hypothesis'], ICE = hypothesis['ICE'])\n",
    "data_ice = data_ice.sort_values(by='ICE', ascending=False)\n",
    "print(data_ice)"
   ]
  },
  {
   "cell_type": "markdown",
   "id": "a6199a44",
   "metadata": {},
   "source": [
    "Наиболее перспективные гипотезы 8, 0, 7, 6, 2"
   ]
  },
  {
   "cell_type": "code",
   "execution_count": 26,
   "id": "c05600cd",
   "metadata": {},
   "outputs": [
    {
     "name": "stdout",
     "output_type": "stream",
     "text": [
      "                                          hypothesis   RICE\n",
      "7  добавить форму подписки на все основные страни...  112.0\n",
      "2  добавить блоки рекомендаций товаров на сайт ин...   56.0\n",
      "0  добавить два новых канала привлечения трафика,...   40.0\n",
      "6  показать на главной странице баннеры с актуаль...   40.0\n",
      "8  запустить акцию, дающую скидку на товар в день...   16.2\n",
      "3  изменить структура категорий, что увеличит кон...    9.0\n",
      "1  запустить собственную службу доставки, что сок...    4.0\n",
      "5  добавить страницу отзывов клиентов о магазине,...    4.0\n",
      "4  изменить цвет фона главной страницы, чтобы уве...    3.0\n"
     ]
    }
   ],
   "source": [
    "hypothesis['RICE'] = (hypothesis['reach'] * hypothesis['impact'] * hypothesis['confidence'])/hypothesis['efforts']\n",
    "\n",
    "data_rice = pd.DataFrame()\n",
    "data_rice = data_rice.assign(hypothesis = hypothesis['hypothesis'], RICE = hypothesis['RICE'])\n",
    "data_rice = data_rice.sort_values(by='RICE', ascending=False)\n",
    "print(data_rice)"
   ]
  },
  {
   "cell_type": "markdown",
   "id": "10ccea4a",
   "metadata": {},
   "source": [
    "Наиболее перспективные гипотезы 7, 2, 0, 6, 8.\n",
    "Выведем эти гипотезы и сравним параметры:"
   ]
  },
  {
   "cell_type": "code",
   "execution_count": 27,
   "id": "f364379a",
   "metadata": {},
   "outputs": [
    {
     "data": {
      "text/html": [
       "<div>\n",
       "<style scoped>\n",
       "    .dataframe tbody tr th:only-of-type {\n",
       "        vertical-align: middle;\n",
       "    }\n",
       "\n",
       "    .dataframe tbody tr th {\n",
       "        vertical-align: top;\n",
       "    }\n",
       "\n",
       "    .dataframe thead th {\n",
       "        text-align: right;\n",
       "    }\n",
       "</style>\n",
       "<table border=\"1\" class=\"dataframe\">\n",
       "  <thead>\n",
       "    <tr style=\"text-align: right;\">\n",
       "      <th></th>\n",
       "      <th>hypothesis</th>\n",
       "      <th>reach</th>\n",
       "      <th>impact</th>\n",
       "      <th>confidence</th>\n",
       "      <th>efforts</th>\n",
       "      <th>ICE</th>\n",
       "      <th>RICE</th>\n",
       "    </tr>\n",
       "  </thead>\n",
       "  <tbody>\n",
       "    <tr>\n",
       "      <th>7</th>\n",
       "      <td>добавить форму подписки на все основные страни...</td>\n",
       "      <td>10</td>\n",
       "      <td>7</td>\n",
       "      <td>8</td>\n",
       "      <td>5</td>\n",
       "      <td>11.200000</td>\n",
       "      <td>112.0</td>\n",
       "    </tr>\n",
       "    <tr>\n",
       "      <th>2</th>\n",
       "      <td>добавить блоки рекомендаций товаров на сайт ин...</td>\n",
       "      <td>8</td>\n",
       "      <td>3</td>\n",
       "      <td>7</td>\n",
       "      <td>3</td>\n",
       "      <td>7.000000</td>\n",
       "      <td>56.0</td>\n",
       "    </tr>\n",
       "    <tr>\n",
       "      <th>0</th>\n",
       "      <td>добавить два новых канала привлечения трафика,...</td>\n",
       "      <td>3</td>\n",
       "      <td>10</td>\n",
       "      <td>8</td>\n",
       "      <td>6</td>\n",
       "      <td>13.333333</td>\n",
       "      <td>40.0</td>\n",
       "    </tr>\n",
       "    <tr>\n",
       "      <th>6</th>\n",
       "      <td>показать на главной странице баннеры с актуаль...</td>\n",
       "      <td>5</td>\n",
       "      <td>3</td>\n",
       "      <td>8</td>\n",
       "      <td>3</td>\n",
       "      <td>8.000000</td>\n",
       "      <td>40.0</td>\n",
       "    </tr>\n",
       "    <tr>\n",
       "      <th>8</th>\n",
       "      <td>запустить акцию, дающую скидку на товар в день...</td>\n",
       "      <td>1</td>\n",
       "      <td>9</td>\n",
       "      <td>9</td>\n",
       "      <td>5</td>\n",
       "      <td>16.200000</td>\n",
       "      <td>16.2</td>\n",
       "    </tr>\n",
       "  </tbody>\n",
       "</table>\n",
       "</div>"
      ],
      "text/plain": [
       "                                          hypothesis  reach  impact  \\\n",
       "7  добавить форму подписки на все основные страни...     10       7   \n",
       "2  добавить блоки рекомендаций товаров на сайт ин...      8       3   \n",
       "0  добавить два новых канала привлечения трафика,...      3      10   \n",
       "6  показать на главной странице баннеры с актуаль...      5       3   \n",
       "8  запустить акцию, дающую скидку на товар в день...      1       9   \n",
       "\n",
       "   confidence  efforts        ICE   RICE  \n",
       "7           8        5  11.200000  112.0  \n",
       "2           7        3   7.000000   56.0  \n",
       "0           8        6  13.333333   40.0  \n",
       "6           8        3   8.000000   40.0  \n",
       "8           9        5  16.200000   16.2  "
      ]
     },
     "execution_count": 27,
     "metadata": {},
     "output_type": "execute_result"
    }
   ],
   "source": [
    "hypothesis.sort_values(by='RICE', ascending=False).head()"
   ]
  },
  {
   "cell_type": "markdown",
   "id": "026e5b21",
   "metadata": {},
   "source": [
    "Вывод:\n",
    "- Среди самых популярных гипотез - 0, 2, 6, 7, 8\n",
    "- Для разных фреймворков приоретет меняется: для ICE порядок - 8, 0, 7, 6, 2, для RICE - 7, 2, 0, 6, 8\n",
    "- При оценки параметров выясняется, что параметр REACH для седьмой и второй гипотезы очень большой - 10 и 8, против 3 и 1 для нулевой и восьмой гипотез. Он и вносит существенные изменения в приоретизации гипотез.\n",
    "- Из-за большего охвата для 7 и 2 гипотез приоретизация фреймворком RICE поставила данные гипотезы на первые места. Не смотря на то, что REACH 6 гипотезы выше, чем 0 и 8, остальные параметры не позволили этой гипотезе подняться выше. \n",
    "- Скорее всего для первоначальной проверки лучше всего подходят 7 и 2 гипотезы."
   ]
  },
  {
   "cell_type": "markdown",
   "id": "b21aaf15",
   "metadata": {},
   "source": [
    "- Помня о том, что RICE(reach, impact, confidence, effort) учитывает охват пользователей, в отличии от ICE - для первоначальной проверки лучше всего подходят 7 и 2 гипотезы."
   ]
  },
  {
   "cell_type": "markdown",
   "id": "a1e48c00",
   "metadata": {},
   "source": [
    "#  [Анализ A/B-теста](#back)\n",
    "<a id='analit'></a>"
   ]
  },
  {
   "cell_type": "markdown",
   "id": "b47448ac",
   "metadata": {},
   "source": [
    "Соберем все кумулятивные данные для удобства построения графиков:"
   ]
  },
  {
   "cell_type": "code",
   "execution_count": 28,
   "id": "6c437e58",
   "metadata": {},
   "outputs": [
    {
     "name": "stdout",
     "output_type": "stream",
     "text": [
      "        date group  orders  buyers  revenue  visitors\n",
      "0 2019-08-01     A      24      20   148579       719\n",
      "1 2019-08-01     B      21      20   101217       713\n",
      "2 2019-08-02     A      44      38   242401      1338\n",
      "3 2019-08-02     B      45      43   266748      1294\n",
      "4 2019-08-03     A      68      62   354874      1845\n"
     ]
    }
   ],
   "source": [
    "# создаем массив уникальных пар значений дат и групп теста\n",
    "dates_groups = orders[['date','group']].drop_duplicates()\n",
    "\n",
    "# создаем массив уникальных пар значений дат и групп теста\n",
    "dates_groups = orders[['date','group']].drop_duplicates()\n",
    "\n",
    "# получаем агрегированные кумулятивные по дням данные о заказах \n",
    "orders_aggregated = dates_groups.apply(\n",
    "    lambda x: orders[np.logical_and(orders['date'] <= x['date'], orders['group'] == x['group'])].\n",
    "    agg({'date' : 'max', \n",
    "         'group' : 'max', \n",
    "         'transaction_id' : 'nunique', \n",
    "         'visitor_id' : 'nunique', \n",
    "         'revenue' : 'sum'}), axis=1).sort_values(by=['date','group'])\n",
    "\n",
    "# получаем агрегированные кумулятивные данные по дням данные о посетителях интернет-магазина \n",
    "visitors_aggregated = dates_groups.apply(\n",
    "    lambda x: visitors[np.logical_and(visitors['date'] <= x['date'], visitors['group'] == x['group'])].\n",
    "    agg({'date' : 'max', \n",
    "         'group' : 'max', \n",
    "         'visitors' : 'sum'}), axis=1).sort_values(by=['date','group'])\n",
    "\n",
    "# объединяем кумулятивные данные в одной таблице и присваиваем ее столбцам понятные названия\n",
    "cumulative_data = orders_aggregated.merge(visitors_aggregated, left_on=['date', 'group'], right_on=['date', 'group'])\n",
    "cumulative_data.columns = ['date', 'group', 'orders', 'buyers', 'revenue', 'visitors']\n",
    "\n",
    "print(cumulative_data.head(5)) \n"
   ]
  },
  {
   "cell_type": "markdown",
   "id": "dc97e859",
   "metadata": {},
   "source": [
    "Соберем датафреймы с кумулятивным количеством заказов и кумулятивной выручкой по дням в обеих группах. Построим графики выручки:"
   ]
  },
  {
   "cell_type": "code",
   "execution_count": 29,
   "id": "b3ac41f9",
   "metadata": {
    "scrolled": false
   },
   "outputs": [
    {
     "data": {
      "image/png": "[encoded data removed]",
      "text/plain": [
       "<Figure size 1500x700 with 1 Axes>"
      ]
     },
     "metadata": {},
     "output_type": "display_data"
    }
   ],
   "source": [
    "# создаем датафрейм с кумулятивной выручкой по дням в группе А\n",
    "cumulative_revenue_a = cumulative_data[cumulative_data['group']=='A'][['date','revenue', 'orders']]\n",
    "\n",
    "# создаем датафрейм с кумулятивной выручкой по дням в группе B\n",
    "cumulative_revenue_b = cumulative_data[cumulative_data['group']=='B'][['date','revenue', 'orders']]\n",
    "\n",
    "# Строим график выручки группы А\n",
    "plt.plot(cumulative_revenue_a['date'], cumulative_revenue_a['revenue'], label='Сегмент A')\n",
    "\n",
    "# Строим график выручки группы B\n",
    "plt.plot(cumulative_revenue_b['date'], cumulative_revenue_b['revenue'], label='Сегмент В')\n",
    "plt.title('Cравнение кумулятивных выручек сегментов А и B', fontsize = 20)\n",
    "plt.legend();"
   ]
  },
  {
   "cell_type": "markdown",
   "id": "efedea5e",
   "metadata": {},
   "source": [
    "#### Вывод:\n",
    "- Практически с самого начала сегмент B немнго обгонял сегмент А. \n",
    "- 13 числа выручка почти сравнялась. \n",
    "- Примерно в середине теста для сегмента B заметен резкий скачок. Это может быть обсуловленно крупными заказами в эти дни.\n",
    "- После 19 числа выручка сегментов растет примерно одинаковыми темпами."
   ]
  },
  {
   "cell_type": "markdown",
   "id": "f926e0e9",
   "metadata": {},
   "source": [
    "Поищем курпные заказы в промежутке 17-20 чисел:"
   ]
  },
  {
   "cell_type": "code",
   "execution_count": 30,
   "id": "490a7983",
   "metadata": {
    "scrolled": false
   },
   "outputs": [
    {
     "data": {
      "text/html": [
       "<div>\n",
       "<style scoped>\n",
       "    .dataframe tbody tr th:only-of-type {\n",
       "        vertical-align: middle;\n",
       "    }\n",
       "\n",
       "    .dataframe tbody tr th {\n",
       "        vertical-align: top;\n",
       "    }\n",
       "\n",
       "    .dataframe thead th {\n",
       "        text-align: right;\n",
       "    }\n",
       "</style>\n",
       "<table border=\"1\" class=\"dataframe\">\n",
       "  <thead>\n",
       "    <tr style=\"text-align: right;\">\n",
       "      <th></th>\n",
       "      <th>date</th>\n",
       "      <th>revenue</th>\n",
       "      <th>orders</th>\n",
       "    </tr>\n",
       "  </thead>\n",
       "  <tbody>\n",
       "    <tr>\n",
       "      <th>33</th>\n",
       "      <td>2019-08-17</td>\n",
       "      <td>2620790</td>\n",
       "      <td>373</td>\n",
       "    </tr>\n",
       "    <tr>\n",
       "      <th>35</th>\n",
       "      <td>2019-08-18</td>\n",
       "      <td>2686621</td>\n",
       "      <td>382</td>\n",
       "    </tr>\n",
       "    <tr>\n",
       "      <th>37</th>\n",
       "      <td>2019-08-19</td>\n",
       "      <td>4116541</td>\n",
       "      <td>403</td>\n",
       "    </tr>\n",
       "    <tr>\n",
       "      <th>39</th>\n",
       "      <td>2019-08-20</td>\n",
       "      <td>4263815</td>\n",
       "      <td>423</td>\n",
       "    </tr>\n",
       "  </tbody>\n",
       "</table>\n",
       "</div>"
      ],
      "text/plain": [
       "         date  revenue  orders\n",
       "33 2019-08-17  2620790     373\n",
       "35 2019-08-18  2686621     382\n",
       "37 2019-08-19  4116541     403\n",
       "39 2019-08-20  4263815     423"
      ]
     },
     "execution_count": 30,
     "metadata": {},
     "output_type": "execute_result"
    }
   ],
   "source": [
    "# посмотрим на количесвто заказов для 17-20 августа. \n",
    "cumulative_revenue_b.query('\"2019-08-17\" <= date <= \"2019-08-20\"')"
   ]
  },
  {
   "cell_type": "markdown",
   "id": "031db1a7",
   "metadata": {},
   "source": [
    "Число заказов примерно одинаковое - выведем самые большие заказы в эти дни."
   ]
  },
  {
   "cell_type": "code",
   "execution_count": 31,
   "id": "744d9d9c",
   "metadata": {},
   "outputs": [
    {
     "data": {
      "text/html": [
       "<div>\n",
       "<style scoped>\n",
       "    .dataframe tbody tr th:only-of-type {\n",
       "        vertical-align: middle;\n",
       "    }\n",
       "\n",
       "    .dataframe tbody tr th {\n",
       "        vertical-align: top;\n",
       "    }\n",
       "\n",
       "    .dataframe thead th {\n",
       "        text-align: right;\n",
       "    }\n",
       "</style>\n",
       "<table border=\"1\" class=\"dataframe\">\n",
       "  <thead>\n",
       "    <tr style=\"text-align: right;\">\n",
       "      <th></th>\n",
       "      <th>transaction_id</th>\n",
       "      <th>visitor_id</th>\n",
       "      <th>date</th>\n",
       "      <th>revenue</th>\n",
       "      <th>group</th>\n",
       "    </tr>\n",
       "  </thead>\n",
       "  <tbody>\n",
       "    <tr>\n",
       "      <th>425</th>\n",
       "      <td>590470918</td>\n",
       "      <td>1920142716</td>\n",
       "      <td>2019-08-19</td>\n",
       "      <td>1294500</td>\n",
       "      <td>B</td>\n",
       "    </tr>\n",
       "    <tr>\n",
       "      <th>530</th>\n",
       "      <td>3970235543</td>\n",
       "      <td>2912540959</td>\n",
       "      <td>2019-08-19</td>\n",
       "      <td>43990</td>\n",
       "      <td>A</td>\n",
       "    </tr>\n",
       "    <tr>\n",
       "      <th>751</th>\n",
       "      <td>348143148</td>\n",
       "      <td>689129267</td>\n",
       "      <td>2019-08-20</td>\n",
       "      <td>37150</td>\n",
       "      <td>B</td>\n",
       "    </tr>\n",
       "    <tr>\n",
       "      <th>527</th>\n",
       "      <td>1570513684</td>\n",
       "      <td>2837914161</td>\n",
       "      <td>2019-08-19</td>\n",
       "      <td>33405</td>\n",
       "      <td>B</td>\n",
       "    </tr>\n",
       "    <tr>\n",
       "      <th>421</th>\n",
       "      <td>3765974140</td>\n",
       "      <td>1357170471</td>\n",
       "      <td>2019-08-19</td>\n",
       "      <td>31680</td>\n",
       "      <td>A</td>\n",
       "    </tr>\n",
       "  </tbody>\n",
       "</table>\n",
       "</div>"
      ],
      "text/plain": [
       "     transaction_id  visitor_id       date  revenue group\n",
       "425       590470918  1920142716 2019-08-19  1294500     B\n",
       "530      3970235543  2912540959 2019-08-19    43990     A\n",
       "751       348143148   689129267 2019-08-20    37150     B\n",
       "527      1570513684  2837914161 2019-08-19    33405     B\n",
       "421      3765974140  1357170471 2019-08-19    31680     A"
      ]
     },
     "execution_count": 31,
     "metadata": {},
     "output_type": "execute_result"
    }
   ],
   "source": [
    "orders.query('\"2019-08-17\" <= date <= \"2019-08-20\"').sort_values(by='revenue', ascending=False).head()"
   ]
  },
  {
   "cell_type": "markdown",
   "id": "5dddfc8e",
   "metadata": {},
   "source": [
    "Очевидно, что 19 числа был совершен крупный заказ - около 1.3 миллиона, тогда как на втором месте около 44 тысяч. Это скачок мы и увидели на графике. "
   ]
  },
  {
   "cell_type": "markdown",
   "id": "8ec916b8",
   "metadata": {},
   "source": [
    "Построим графики кумулятивного среднего чека по дням:"
   ]
  },
  {
   "cell_type": "code",
   "execution_count": 32,
   "id": "ca29fe24",
   "metadata": {
    "scrolled": false
   },
   "outputs": [
    {
     "data": {
      "image/png": "[encoded data removed]",
      "text/plain": [
       "<Figure size 1500x700 with 1 Axes>"
      ]
     },
     "metadata": {},
     "output_type": "display_data"
    }
   ],
   "source": [
    "# делим кумулятивную выручку на число заказов:\n",
    "plt.plot(cumulative_revenue_a['date'], cumulative_revenue_a['revenue']/cumulative_revenue_a['orders'], label='Сегмент A')\n",
    "plt.plot(cumulative_revenue_b['date'], cumulative_revenue_b['revenue']/cumulative_revenue_b['orders'], label='Сегмент B')\n",
    "plt.title('Cравнение кумулятивного среднего чека сегментов А и B', fontsize = 20)\n",
    "plt.legend();"
   ]
  },
  {
   "cell_type": "markdown",
   "id": "4a5be48f",
   "metadata": {},
   "source": [
    "#### Выводы:\n",
    "- Кумулятивные значения колеблются. \n",
    "- В начале средний чек сегмента А выше и резко снижается.\n",
    "- Срежний чек сегмента B практически сразу становится больше и остается таким до всплеска около 13 числа (мы видели это в графике кумулятивных выручек в виде сближения кривых).\n",
    "- Виден резкий скачок сегмента B во второй половине теста, связанный с крупным заказом 19 числа. \n",
    "- После 19 числа чек сегмента B постепенно снижается, а сегмента А наоборот - растет."
   ]
  },
  {
   "cell_type": "markdown",
   "id": "82e11872",
   "metadata": {},
   "source": [
    "Посмотрим как меняется кумулятивный средний чек от группы B к группе А:"
   ]
  },
  {
   "cell_type": "code",
   "execution_count": 33,
   "id": "32269890",
   "metadata": {
    "scrolled": false
   },
   "outputs": [
    {
     "data": {
      "image/png": "[encoded data removed]",
      "text/plain": [
       "<Figure size 1500x700 with 1 Axes>"
      ]
     },
     "metadata": {},
     "output_type": "display_data"
    }
   ],
   "source": [
    "# собираем данные в одном датафрейме\n",
    "merged_cumulative_revenue = cumulative_revenue_a.merge(\n",
    "    cumulative_revenue_b, \n",
    "    left_on='date', \n",
    "    right_on='date', \n",
    "    how='left', \n",
    "    suffixes=['_a', '_b'])\n",
    "# cтроим отношение средних чеков\n",
    "plt.plot(merged_cumulative_revenue['date'], \n",
    "         (merged_cumulative_revenue['revenue_b']/merged_cumulative_revenue['orders_b'])/(merged_cumulative_revenue['revenue_a']/merged_cumulative_revenue['orders_a'])-1)\n",
    "\n",
    "plt.title('График относительного изменения кумулятивного среднего чека группы B к группе A', fontsize = 20)\n",
    "plt.axhline(y=0, color='black', linestyle='--');"
   ]
  },
  {
   "cell_type": "markdown",
   "id": "411908fa",
   "metadata": {},
   "source": [
    "#### Выводы:\n",
    "- Средний чек сегмента B рос с начала анализа и примерно до 7 августа. \n",
    "- Второго числа чек сегмента B привысил чек сегмента А.\n",
    "- Падение среднего сека сегмента B началось около 8 числа и продолжалось до 13. \n",
    "- Около 13 числа сегмент B начал расти и вновь обогнал чек А. \n",
    "- 19 числа отмечаем резкий скачок среднего чека B, связанный с крупным заказом.\n",
    "- После этого средний чек сегмента B постепенно приближается к среднему чеку сегмента А.\n",
    "- График не противоречит логике прошлого графика. "
   ]
  },
  {
   "cell_type": "markdown",
   "id": "b4b9cc44",
   "metadata": {},
   "source": [
    "Построим график кумулятивной конверсии по группам:"
   ]
  },
  {
   "cell_type": "code",
   "execution_count": 34,
   "id": "5299000d",
   "metadata": {
    "scrolled": false
   },
   "outputs": [
    {
     "data": {
      "image/png": "[encoded data removed]",
      "text/plain": [
       "<Figure size 1500x700 with 1 Axes>"
      ]
     },
     "metadata": {},
     "output_type": "display_data"
    }
   ],
   "source": [
    "# считаем кумулятивную конверсию\n",
    "cumulative_data['conversion'] = cumulative_data['orders']/cumulative_data['visitors']\n",
    "\n",
    "# отделяем данные по группе A\n",
    "cumulative_data_a = cumulative_data[cumulative_data['group']=='A']\n",
    "\n",
    "# отделяем данные по группе B\n",
    "cumulative_data_b = cumulative_data[cumulative_data['group']=='B']\n",
    "\n",
    "# строим графики\n",
    "plt.plot(cumulative_data_a['date'], cumulative_data_a['conversion'], label='Сегмент A')\n",
    "plt.plot(cumulative_data_b['date'], cumulative_data_b['conversion'], label='Сегмент B')\n",
    "plt.title('График кумулятивной конверсии по группам', fontsize = 20)\n",
    "plt.legend();\n",
    "\n"
   ]
  },
  {
   "cell_type": "markdown",
   "id": "9c3478bf",
   "metadata": {},
   "source": [
    "#### Выводы:\n",
    "- В начале августа конверсия сегмента А была выше. \n",
    "- Около 3-го числа конверсия сегмента А достигла максимума и начала падать. Конверсия сегмента B также падала. \n",
    "- Падение конверсии сегмента В закончилась в районе 4-го числа и начала расти, конверсия сегмента А продолжила падение.\n",
    "- Около 6 числа конверсия сегмента В привысила конверсию сегмента А\n",
    "- После этого конверсии обоих сегментов, колебаясь, держаться на примерно одинаковом уровне (в диапазоне 0.033 - 0.036, падая со временем для сегмента В и в диапазоне 0.031-0.029 сегмента А). \n",
    "- Большую часть времени конверсия сегмента В выше, чем сегмента А"
   ]
  },
  {
   "cell_type": "markdown",
   "id": "46cd045f",
   "metadata": {},
   "source": [
    "Построим график относительного изменения кумулятивной конверсии группы B к группе A:"
   ]
  },
  {
   "cell_type": "code",
   "execution_count": 35,
   "id": "d756030e",
   "metadata": {},
   "outputs": [
    {
     "data": {
      "image/png": "[encoded data removed]",
      "text/plain": [
       "<Figure size 1500x500 with 1 Axes>"
      ]
     },
     "metadata": {},
     "output_type": "display_data"
    }
   ],
   "source": [
    "merged_cumulative_conversions = cumulative_data_a[['date','conversion']].merge(\n",
    "    cumulative_data_b[['date','conversion']], \n",
    "    left_on='date', \n",
    "    right_on='date', \n",
    "    how='left', \n",
    "    suffixes=['_a', '_b'])\n",
    "\n",
    "plt.figure(figsize=(15,5))\n",
    "plt.grid()\n",
    "plt.plot(merged_cumulative_conversions['date'], \n",
    "         merged_cumulative_conversions['conversion_b']/merged_cumulative_conversions['conversion_a']-1 )\n",
    "\n",
    "plt.title('Относительное изменение кумулятивной конверсии группы B к группе A', fontsize = 20)\n",
    "\n",
    "plt.axhline(y=0, color='black', linestyle='--') \n",
    "plt.axhline(y=0.1, color='grey', linestyle='--')\n",
    "plt.axhline(y=0.2, color='grey', linestyle='--')\n",
    "plt.axhline(y=0.05, color='grey', linestyle='--');"
   ]
  },
  {
   "cell_type": "markdown",
   "id": "4deee391",
   "metadata": {},
   "source": [
    "#### Выводы:\n",
    "- Конверсия сегмента В изначально была ниже конверсии сегмента А.\n",
    "- Около 3-го числа наблюдался скачок конверсии, привысивший конверсию сегмента А. \n",
    "- Устойчивый рост конверсии В наблюдался с 4-го числа. \n",
    "- Отметку в 10% отношение конверсий привысило около 8 числа. \n",
    "- Отношение конверсии сохраняется на уровне 10-20% в пользу сегмента В.\n",
    "- График не противоречит логике прошлого графика. "
   ]
  },
  {
   "cell_type": "markdown",
   "id": "79c6b694",
   "metadata": {},
   "source": [
    "Построим точечный график количества заказов по пользователям."
   ]
  },
  {
   "cell_type": "code",
   "execution_count": 36,
   "id": "b7f40546",
   "metadata": {
    "scrolled": true
   },
   "outputs": [
    {
     "data": {
      "text/html": [
       "<div>\n",
       "<style scoped>\n",
       "    .dataframe tbody tr th:only-of-type {\n",
       "        vertical-align: middle;\n",
       "    }\n",
       "\n",
       "    .dataframe tbody tr th {\n",
       "        vertical-align: top;\n",
       "    }\n",
       "\n",
       "    .dataframe thead th {\n",
       "        text-align: right;\n",
       "    }\n",
       "</style>\n",
       "<table border=\"1\" class=\"dataframe\">\n",
       "  <thead>\n",
       "    <tr style=\"text-align: right;\">\n",
       "      <th></th>\n",
       "      <th>visitor_id</th>\n",
       "      <th>orders</th>\n",
       "    </tr>\n",
       "  </thead>\n",
       "  <tbody>\n",
       "    <tr>\n",
       "      <th>1023</th>\n",
       "      <td>4256040402</td>\n",
       "      <td>11</td>\n",
       "    </tr>\n",
       "    <tr>\n",
       "      <th>591</th>\n",
       "      <td>2458001652</td>\n",
       "      <td>11</td>\n",
       "    </tr>\n",
       "    <tr>\n",
       "      <th>569</th>\n",
       "      <td>2378935119</td>\n",
       "      <td>9</td>\n",
       "    </tr>\n",
       "    <tr>\n",
       "      <th>487</th>\n",
       "      <td>2038680547</td>\n",
       "      <td>8</td>\n",
       "    </tr>\n",
       "    <tr>\n",
       "      <th>44</th>\n",
       "      <td>199603092</td>\n",
       "      <td>5</td>\n",
       "    </tr>\n",
       "    <tr>\n",
       "      <th>744</th>\n",
       "      <td>3062433592</td>\n",
       "      <td>5</td>\n",
       "    </tr>\n",
       "    <tr>\n",
       "      <th>55</th>\n",
       "      <td>237748145</td>\n",
       "      <td>5</td>\n",
       "    </tr>\n",
       "    <tr>\n",
       "      <th>917</th>\n",
       "      <td>3803269165</td>\n",
       "      <td>5</td>\n",
       "    </tr>\n",
       "    <tr>\n",
       "      <th>299</th>\n",
       "      <td>1230306981</td>\n",
       "      <td>5</td>\n",
       "    </tr>\n",
       "    <tr>\n",
       "      <th>897</th>\n",
       "      <td>3717692402</td>\n",
       "      <td>5</td>\n",
       "    </tr>\n",
       "  </tbody>\n",
       "</table>\n",
       "</div>"
      ],
      "text/plain": [
       "      visitor_id  orders\n",
       "1023  4256040402      11\n",
       "591   2458001652      11\n",
       "569   2378935119       9\n",
       "487   2038680547       8\n",
       "44     199603092       5\n",
       "744   3062433592       5\n",
       "55     237748145       5\n",
       "917   3803269165       5\n",
       "299   1230306981       5\n",
       "897   3717692402       5"
      ]
     },
     "execution_count": 36,
     "metadata": {},
     "output_type": "execute_result"
    }
   ],
   "source": [
    "# найдем число заказов по пользователем:\n",
    "orders_by_users = (orders.groupby('visitor_id', as_index=False).agg({'transaction_id': 'nunique'}))\n",
    "orders_by_users.columns = ['visitor_id', 'orders']\n",
    "orders_by_users.sort_values(by='orders', ascending=False).head(10)"
   ]
  },
  {
   "cell_type": "code",
   "execution_count": 37,
   "id": "3cc9fed2",
   "metadata": {
    "scrolled": false
   },
   "outputs": [
    {
     "data": {
      "image/png": "[encoded data removed]",
      "text/plain": [
       "<Figure size 1500x700 with 1 Axes>"
      ]
     },
     "metadata": {},
     "output_type": "display_data"
    }
   ],
   "source": [
    "# построим график количества заказов по пользователям\n",
    "x_values = pd.Series(range(0,len(orders_by_users)))\n",
    "plt.title('График количества заказов по пользователям', fontsize = 20)\n",
    "plt.scatter(x_values, orders_by_users['orders']);"
   ]
  },
  {
   "cell_type": "markdown",
   "id": "fcd986db",
   "metadata": {},
   "source": [
    "#### Выводы:\n",
    "- Подовляющее число пользователей совершило всего один заказ\n",
    "- Пользователей, совершивших 2 заказа меньше\n",
    "- Каждый следующий заказ соврешают все меньше пользователей - больше 5 заказов соверщили всего несколько пользователей. "
   ]
  },
  {
   "cell_type": "markdown",
   "id": "11a511da",
   "metadata": {},
   "source": [
    "Посчитаем 95-й и 99-й перцентили количества заказов на пользователя:"
   ]
  },
  {
   "cell_type": "code",
   "execution_count": 38,
   "id": "de220a08",
   "metadata": {
    "scrolled": false
   },
   "outputs": [
    {
     "name": "stdout",
     "output_type": "stream",
     "text": [
      "[2. 4.]\n"
     ]
    }
   ],
   "source": [
    "print(np.percentile(orders_by_users['orders'], [95,99])) "
   ]
  },
  {
   "cell_type": "markdown",
   "id": "47ce8112",
   "metadata": {},
   "source": [
    "#### Выводы:\n",
    "- Больше 95% пользователей совершают всего 2 покупки.\n",
    "- 4 и больше покупок совершает только 1% пользователей.\n",
    "- Границу аномальных заказов выберем по 95-й процентали - т.е. больше двух заказов."
   ]
  },
  {
   "cell_type": "markdown",
   "id": "17c6dae6",
   "metadata": {},
   "source": [
    "Построим точечный график стоимостей заказов по пользователям. "
   ]
  },
  {
   "cell_type": "code",
   "execution_count": 39,
   "id": "1786e031",
   "metadata": {
    "scrolled": false
   },
   "outputs": [
    {
     "data": {
      "image/png": "[encoded data removed]",
      "text/plain": [
       "<Figure size 1500x700 with 1 Axes>"
      ]
     },
     "metadata": {},
     "output_type": "display_data"
    }
   ],
   "source": [
    "x_values = pd.Series(range(0, len(orders['revenue'])))\n",
    "plt.title('График стоимостей заказов по пользователям', fontsize = 20)\n",
    "plt.scatter(x_values, orders['revenue']);"
   ]
  },
  {
   "cell_type": "markdown",
   "id": "d87e335a",
   "metadata": {},
   "source": [
    "Очевидно, что найденный нами заказ в 1.3 миллиона сильно искажает картину. Уберем его и заказ в 200000 и посмотрим на остальные заказы:"
   ]
  },
  {
   "cell_type": "code",
   "execution_count": 40,
   "id": "fdf5fa85",
   "metadata": {
    "scrolled": false
   },
   "outputs": [
    {
     "data": {
      "image/png": "[encoded data removed]",
      "text/plain": [
       "<Figure size 1500x700 with 1 Axes>"
      ]
     },
     "metadata": {},
     "output_type": "display_data"
    }
   ],
   "source": [
    "orders_without_heist_price = orders.query('revenue <= 200000')\n",
    "x_values = pd.Series(range(0, len(orders_without_heist_price['revenue'])))\n",
    "plt.title('График стоимостей заказов по пользователям', fontsize = 20)\n",
    "plt.scatter(x_values, orders_without_heist_price['revenue']);"
   ]
  },
  {
   "cell_type": "markdown",
   "id": "0fbb3a5d",
   "metadata": {},
   "source": [
    "#### Выводы:\n",
    "- Заказы в 1.3 миллиона и 200000 - единичные случаи.\n",
    "- Большинство заказов меньше 20000.\n",
    "- Отдельные заказы могут быть больше 60000, но практически не достигают 100000."
   ]
  },
  {
   "cell_type": "markdown",
   "id": "b0a4e772",
   "metadata": {},
   "source": [
    "Найдем 95-й и 99-й перцентили стоимости заказов:"
   ]
  },
  {
   "cell_type": "code",
   "execution_count": 41,
   "id": "3e514c6d",
   "metadata": {
    "scrolled": false
   },
   "outputs": [
    {
     "name": "stdout",
     "output_type": "stream",
     "text": [
      "[28000.  58233.2]\n"
     ]
    }
   ],
   "source": [
    "print(np.percentile(orders['revenue'], [95, 99])) "
   ]
  },
  {
   "cell_type": "markdown",
   "id": "289b1a80",
   "metadata": {},
   "source": [
    "#### Выводы:\n",
    "- 95% заказов меньше 30 тысяч.\n",
    "- Всего 1% заказов выше 58 тысяч.\n",
    "- Отбросим заказы выше 95 процнетали."
   ]
  },
  {
   "cell_type": "markdown",
   "id": "ab06a835",
   "metadata": {},
   "source": [
    "Подготовим данные для дальнеших расчетов"
   ]
  },
  {
   "cell_type": "code",
   "execution_count": 42,
   "id": "72647ca5",
   "metadata": {},
   "outputs": [
    {
     "data": {
      "text/html": [
       "<div>\n",
       "<style scoped>\n",
       "    .dataframe tbody tr th:only-of-type {\n",
       "        vertical-align: middle;\n",
       "    }\n",
       "\n",
       "    .dataframe tbody tr th {\n",
       "        vertical-align: top;\n",
       "    }\n",
       "\n",
       "    .dataframe thead th {\n",
       "        text-align: right;\n",
       "    }\n",
       "</style>\n",
       "<table border=\"1\" class=\"dataframe\">\n",
       "  <thead>\n",
       "    <tr style=\"text-align: right;\">\n",
       "      <th></th>\n",
       "      <th>date</th>\n",
       "      <th>orders_per_date_a</th>\n",
       "      <th>revenue_per_date_a</th>\n",
       "      <th>orders_per_date_b</th>\n",
       "      <th>revenue_per_date_b</th>\n",
       "      <th>orders_cummulative_a</th>\n",
       "      <th>revenue_cummulative_a</th>\n",
       "      <th>orders_cummulative_b</th>\n",
       "      <th>revenue_cummulative_b</th>\n",
       "      <th>visitors_per_date_a</th>\n",
       "      <th>visitors_per_date_b</th>\n",
       "      <th>visitors_cummulative_a</th>\n",
       "      <th>visitors_cummulative_b</th>\n",
       "    </tr>\n",
       "  </thead>\n",
       "  <tbody>\n",
       "    <tr>\n",
       "      <th>13</th>\n",
       "      <td>2019-08-14</td>\n",
       "      <td>24</td>\n",
       "      <td>64341</td>\n",
       "      <td>23</td>\n",
       "      <td>171708</td>\n",
       "      <td>268</td>\n",
       "      <td>1890852</td>\n",
       "      <td>308</td>\n",
       "      <td>2025446</td>\n",
       "      <td>735</td>\n",
       "      <td>746</td>\n",
       "      <td>9058</td>\n",
       "      <td>9056</td>\n",
       "    </tr>\n",
       "    <tr>\n",
       "      <th>24</th>\n",
       "      <td>2019-08-25</td>\n",
       "      <td>10</td>\n",
       "      <td>68634</td>\n",
       "      <td>14</td>\n",
       "      <td>102862</td>\n",
       "      <td>451</td>\n",
       "      <td>3070704</td>\n",
       "      <td>507</td>\n",
       "      <td>4901584</td>\n",
       "      <td>621</td>\n",
       "      <td>679</td>\n",
       "      <td>14943</td>\n",
       "      <td>15127</td>\n",
       "    </tr>\n",
       "    <tr>\n",
       "      <th>14</th>\n",
       "      <td>2019-08-15</td>\n",
       "      <td>15</td>\n",
       "      <td>88205</td>\n",
       "      <td>31</td>\n",
       "      <td>342499</td>\n",
       "      <td>283</td>\n",
       "      <td>1979057</td>\n",
       "      <td>339</td>\n",
       "      <td>2367945</td>\n",
       "      <td>628</td>\n",
       "      <td>544</td>\n",
       "      <td>9686</td>\n",
       "      <td>9600</td>\n",
       "    </tr>\n",
       "  </tbody>\n",
       "</table>\n",
       "</div>"
      ],
      "text/plain": [
       "         date  orders_per_date_a  revenue_per_date_a  orders_per_date_b  \\\n",
       "13 2019-08-14                 24               64341                 23   \n",
       "24 2019-08-25                 10               68634                 14   \n",
       "14 2019-08-15                 15               88205                 31   \n",
       "\n",
       "    revenue_per_date_b  orders_cummulative_a  revenue_cummulative_a  \\\n",
       "13              171708                   268                1890852   \n",
       "24              102862                   451                3070704   \n",
       "14              342499                   283                1979057   \n",
       "\n",
       "    orders_cummulative_b  revenue_cummulative_b  visitors_per_date_a  \\\n",
       "13                   308                2025446                  735   \n",
       "24                   507                4901584                  621   \n",
       "14                   339                2367945                  628   \n",
       "\n",
       "    visitors_per_date_b  visitors_cummulative_a  visitors_cummulative_b  \n",
       "13                  746                    9058                    9056  \n",
       "24                  679                   14943                   15127  \n",
       "14                  544                    9686                    9600  "
      ]
     },
     "execution_count": 42,
     "metadata": {},
     "output_type": "execute_result"
    }
   ],
   "source": [
    "# подготовим данные\n",
    "\n",
    "# число пользователей в выбранную дату в группе A:\n",
    "visitors_a_daily = visitors[visitors['group']=='A'][['date', 'visitors']]\n",
    "visitors_a_daily.columns = ['date', 'visitors_per_date_a']\n",
    "# количество пользователей до выбранной даты включительно в группе A:\n",
    "visitors_a_cummulative = visitors_a_daily.apply(lambda x: visitors_a_daily[visitors_a_daily['date'] <= x['date']]. \\\n",
    "                                            agg({'date' : 'max', \n",
    "                                                 'visitors_per_date_a' : 'sum'}), axis=1)\n",
    "visitors_a_cummulative.columns = ['date', 'visitors_cummulative_a']\n",
    "\n",
    "# число пользователей в выбранную дату в группе B:\n",
    "visitors_b_daily = visitors[visitors['group']=='B'][['date', 'visitors']]\n",
    "visitors_b_daily.columns = ['date', 'visitors_per_date_b']\n",
    "# количество пользователей до выбранной даты включительно в группе B:\n",
    "visitors_b_cummulative = visitors_b_daily.apply(lambda x: visitors_b_daily[visitors_b_daily['date'] <= x['date']]. \\\n",
    "                                            agg({'date' : 'max', \n",
    "                                                 'visitors_per_date_b' : 'sum'}), axis=1)\n",
    "visitors_b_cummulative.columns = ['date', 'visitors_cummulative_b']\n",
    "\n",
    "#  количество заказов и суммарная выручка в выбранную дату в группе A:\n",
    "orders_a_daily = orders[orders['group']=='A'][['date', 'transaction_id', 'visitor_id', 'revenue']]\\\n",
    "    .groupby('date', as_index=False)\\\n",
    "    .agg({'transaction_id' : pd.Series.nunique, \n",
    "          'revenue' : 'sum'})\n",
    "orders_a_daily.columns = ['date', 'orders_per_date_a', 'revenue_per_date_a']\n",
    "# суммарное число заказов и суммарная выручка до выбранной даты включительно в группе A:\n",
    "orders_a_cummulative = orders_a_daily.apply(\n",
    "    lambda x: \\\n",
    "        orders_a_daily[orders_a_daily['date'] <= x['date']]\\\n",
    "            .agg({\n",
    "                'date' : 'max',\n",
    "                'orders_per_date_a' : 'sum',\n",
    "                'revenue_per_date_a' : 'sum'}), axis=1).sort_values(by=['date'])\n",
    "\n",
    "orders_a_cummulative.columns = ['date', 'orders_cummulative_a', 'revenue_cummulative_a']\n",
    "\n",
    "#  количество заказов и суммарная выручка в выбранную дату в группе B:\n",
    "orders_b_daily = orders[orders['group']=='B'][['date', 'transaction_id', 'visitor_id', 'revenue']]\\\n",
    "    .groupby('date', as_index=False)\\\n",
    "    .agg({'transaction_id' : pd.Series.nunique, \n",
    "          'revenue' : 'sum'})\n",
    "orders_b_daily.columns = ['date', 'orders_per_date_b', 'revenue_per_date_b']\n",
    "# суммарное число заказов и суммарная выручка до выбранной даты включительно в группе B:\n",
    "orders_b_cummulative = orders_b_daily.apply(\n",
    "    lambda x: \\\n",
    "        orders_b_daily[orders_b_daily['date'] <= x['date']]\\\n",
    "            .agg({\n",
    "                'date' : 'max',\n",
    "                'orders_per_date_b' : 'sum',\n",
    "                'revenue_per_date_b' : 'sum'}), axis=1).sort_values(by=['date'])\n",
    "orders_b_cummulative.columns = ['date', 'orders_cummulative_b', 'revenue_cummulative_b']\n",
    "\n",
    "# соберем данные в одну таблицу\n",
    "data = orders_a_daily.merge(orders_b_daily, left_on='date', right_on='date', how='left')\\\n",
    "    .merge(orders_a_cummulative, left_on='date', right_on='date', how='left')\\\n",
    "    .merge(orders_b_cummulative, left_on='date', right_on='date', how='left')\\\n",
    "    .merge(visitors_a_daily, left_on='date', right_on='date', how='left')\\\n",
    "    .merge(visitors_b_daily, left_on='date', right_on='date', how='left')\\\n",
    "    .merge(visitors_a_cummulative, left_on='date', right_on='date', how='left')\\\n",
    "    .merge(visitors_b_cummulative, left_on='date', right_on='date', how='left')\n",
    "data.sample(3)"
   ]
  },
  {
   "cell_type": "markdown",
   "id": "02b566eb",
   "metadata": {},
   "source": [
    "Создадим переменные orders_by_users_a и orders_by_users_b со столбцами 'user_id' и 'orders'. Для каждого пользователя укажем число соверщенных заказов. Так как нас интересует конверсия, не будем убирать пользователей, не соверщивших заказ."
   ]
  },
  {
   "cell_type": "code",
   "execution_count": 43,
   "id": "86a0831c",
   "metadata": {},
   "outputs": [],
   "source": [
    "# Создаем переменные:\n",
    "orders_by_users_a = (orders[orders['group'] == 'A']\n",
    "    .groupby('visitor_id', as_index=False)\n",
    "    .agg({'transaction_id': pd.Series.nunique}))\n",
    "orders_by_users_a.columns = ['user_id', 'orders']\n",
    "\n",
    "orders_by_users_b = (orders[orders['group'] == 'B']\n",
    "    .groupby('visitor_id', as_index=False)\n",
    "    .agg({'transaction_id': pd.Series.nunique}))\n",
    "orders_by_users_b.columns = ['user_id', 'orders']\n",
    "\n",
    "# Для проверки критерием Манна-Уитни подготовим переменные sample_a и sample_b\n",
    "# в которых пользователям из разных групп будет соответствовать количество заказов.\n",
    "# Тем, кто ничего не заказал, будут соответствовать нули. \n",
    "sample_a = pd.concat([orders_by_users_a['orders'], pd.Series(\n",
    "    0, index=np.arange(data['visitors_per_date_a'].sum() - len(orders_by_users_a['orders'])), name='orders')],axis=0)\n",
    "\n",
    "sample_b = pd.concat([orders_by_users_b['orders'], pd.Series(\n",
    "    0, index=np.arange(data['visitors_per_date_b'].sum() - len(orders_by_users_b['orders'])), name='orders')],axis=0) "
   ]
  },
  {
   "cell_type": "markdown",
   "id": "99ed7c9e",
   "metadata": {},
   "source": [
    "Посчитаем статистическую значимость различий в конверсии между группами по «сырым» данным. "
   ]
  },
  {
   "cell_type": "markdown",
   "id": "e8a5b349",
   "metadata": {},
   "source": [
    "Данные готовые - сформулируем нулевую гипотезу: \"Между группами А и В нет статистически значимых различий в конверсии\". Тогда альтернативная гипотеза: \"Между группами А и В есть статистически значимые различия в конверсии\".\n",
    "\n",
    "\n",
    "Критический уровень статистической значимости примем в 0.05:"
   ]
  },
  {
   "cell_type": "code",
   "execution_count": 44,
   "id": "5be571b8",
   "metadata": {
    "scrolled": true
   },
   "outputs": [
    {
     "name": "stdout",
     "output_type": "stream",
     "text": [
      "alpha = 0.05\n",
      "p-value = 0.016792\n"
     ]
    }
   ],
   "source": [
    "print(\"alpha =\", 0.05)\n",
    "print(\"p-value = {0:.6f}\".format(stats.mannwhitneyu(sample_a, sample_b)[1])) "
   ]
  },
  {
   "cell_type": "markdown",
   "id": "0a968a3b",
   "metadata": {},
   "source": [
    "Значение p-value меньше критического уровня, значит мы отвергаем нулевую гипотезу - между группами А и В есть статистически значимые различия в конверсии."
   ]
  },
  {
   "cell_type": "markdown",
   "id": "8e057166",
   "metadata": {},
   "source": [
    "Найдем различие в конверсии между группами (прирост конверсии B к А):"
   ]
  },
  {
   "cell_type": "code",
   "execution_count": 45,
   "id": "b29f3a1e",
   "metadata": {},
   "outputs": [
    {
     "name": "stdout",
     "output_type": "stream",
     "text": [
      "Различие в конверсии между группами в процентах: = 13.81\n"
     ]
    }
   ],
   "source": [
    "print(\"Различие в конверсии между группами в процентах: = {0:.2f}\".format((sample_b.mean() / sample_a.mean() - 1)*100)) "
   ]
  },
  {
   "cell_type": "markdown",
   "id": "ca8fa8d6",
   "metadata": {},
   "source": [
    "#### Выводы:\n",
    "- Между группами А и В есть статистически значимые различия.\n",
    "- Различие в конверсии около 14%"
   ]
  },
  {
   "cell_type": "markdown",
   "id": "7618a188",
   "metadata": {},
   "source": [
    "Сформулируем нулевую гипотезу для статистической значимости различий в среднем чеке заказа между группами по «сырым» данным. Нулевая гипотеза будет звучать: \"Между группами А и В нету статистически значимых различий\". Тогда альтернативная гипотеза: \"Между группами А и В есть статистически значимые различия\".\n",
    "\n",
    "\n",
    "Критический уровень статистической значимости примем в 0.05:"
   ]
  },
  {
   "cell_type": "code",
   "execution_count": 46,
   "id": "d04b8b58",
   "metadata": {
    "scrolled": true
   },
   "outputs": [
    {
     "name": "stdout",
     "output_type": "stream",
     "text": [
      "alpha = 0.05\n",
      "p-value = 0.72929\n"
     ]
    }
   ],
   "source": [
    "print(\"alpha =\", 0.05)\n",
    "print(\"p-value = {0:.5f}\".format(stats.mannwhitneyu(orders[orders['group']=='A']['revenue'], \n",
    "                                                    orders[orders['group']=='B']['revenue'])[1]))"
   ]
  },
  {
   "cell_type": "markdown",
   "id": "26fe45bf",
   "metadata": {},
   "source": [
    "Значение p-value выше критического уровня, значит мы не можем отвергнуть нулевую гипотезу. Найдем относительное различие среднего чека между сегментами:"
   ]
  },
  {
   "cell_type": "code",
   "execution_count": 47,
   "id": "84dd0754",
   "metadata": {},
   "outputs": [
    {
     "name": "stdout",
     "output_type": "stream",
     "text": [
      "Относительное различие среднего чека в процентах  = 25.87\n"
     ]
    }
   ],
   "source": [
    "print(\"Относительное различие среднего чека в процентах  = {0:.2f}\".format((orders[orders['group']=='B']['revenue']\n",
    "                                                                            .mean()/orders[orders['group']=='A']['revenue']\n",
    "                                                                            .mean()-1)*100)) "
   ]
  },
  {
   "cell_type": "markdown",
   "id": "461551a4",
   "metadata": {},
   "source": [
    "#### Выводы:\n",
    "- Не удалось отвергнуть нулевую гипотезу \n",
    "- Разница в среднем чеке составляет около 26%"
   ]
  },
  {
   "cell_type": "markdown",
   "id": "5c215d7c",
   "metadata": {},
   "source": [
    "Посчитаем статистическую значимость различий в конверсии между группами по «очищенным» данным. "
   ]
  },
  {
   "cell_type": "markdown",
   "id": "7d9d76eb",
   "metadata": {},
   "source": [
    "Учитывая 95-й и 99-й перцентили стоимости заказов равны 28000 и 58233, а 95-й и 99-й перцентили количества заказов на одного пользователя равны 2 и 4 заказа на пользователя - примем за аномальных пользователей тех, кто совершил от 2х заказов или совершил заказ дороже 28000. \n",
    "\n",
    "Таким образом мы избавимся 5% от пользователей с наибольшим числом заказов и от 5% пользователей с дорогими заказами\n",
    "Сделаем срезы пользователей с числом заказов больше 2 — users_with_many_orders и пользователей, совершивших заказы дороже 28 000 — users_with_expensive_orders. Объединим их в таблице abnormal_users."
   ]
  },
  {
   "cell_type": "code",
   "execution_count": 48,
   "id": "d3411ee9",
   "metadata": {},
   "outputs": [
    {
     "data": {
      "text/html": [
       "<div>\n",
       "<style scoped>\n",
       "    .dataframe tbody tr th:only-of-type {\n",
       "        vertical-align: middle;\n",
       "    }\n",
       "\n",
       "    .dataframe tbody tr th {\n",
       "        vertical-align: top;\n",
       "    }\n",
       "\n",
       "    .dataframe thead th {\n",
       "        text-align: right;\n",
       "    }\n",
       "</style>\n",
       "<table border=\"1\" class=\"dataframe\">\n",
       "  <thead>\n",
       "    <tr style=\"text-align: right;\">\n",
       "      <th></th>\n",
       "      <th>transaction_id</th>\n",
       "      <th>visitor_id</th>\n",
       "      <th>date</th>\n",
       "      <th>revenue</th>\n",
       "      <th>group</th>\n",
       "    </tr>\n",
       "  </thead>\n",
       "  <tbody>\n",
       "    <tr>\n",
       "      <th>0</th>\n",
       "      <td>3667963787</td>\n",
       "      <td>3312258926</td>\n",
       "      <td>2019-08-15</td>\n",
       "      <td>1650</td>\n",
       "      <td>B</td>\n",
       "    </tr>\n",
       "    <tr>\n",
       "      <th>1</th>\n",
       "      <td>2804400009</td>\n",
       "      <td>3642806036</td>\n",
       "      <td>2019-08-15</td>\n",
       "      <td>730</td>\n",
       "      <td>B</td>\n",
       "    </tr>\n",
       "    <tr>\n",
       "      <th>2</th>\n",
       "      <td>2961555356</td>\n",
       "      <td>4069496402</td>\n",
       "      <td>2019-08-15</td>\n",
       "      <td>400</td>\n",
       "      <td>A</td>\n",
       "    </tr>\n",
       "    <tr>\n",
       "      <th>3</th>\n",
       "      <td>3797467345</td>\n",
       "      <td>1196621759</td>\n",
       "      <td>2019-08-15</td>\n",
       "      <td>9759</td>\n",
       "      <td>B</td>\n",
       "    </tr>\n",
       "    <tr>\n",
       "      <th>4</th>\n",
       "      <td>2282983706</td>\n",
       "      <td>2322279887</td>\n",
       "      <td>2019-08-15</td>\n",
       "      <td>2308</td>\n",
       "      <td>B</td>\n",
       "    </tr>\n",
       "  </tbody>\n",
       "</table>\n",
       "</div>"
      ],
      "text/plain": [
       "   transaction_id  visitor_id       date  revenue group\n",
       "0      3667963787  3312258926 2019-08-15     1650     B\n",
       "1      2804400009  3642806036 2019-08-15      730     B\n",
       "2      2961555356  4069496402 2019-08-15      400     A\n",
       "3      3797467345  1196621759 2019-08-15     9759     B\n",
       "4      2282983706  2322279887 2019-08-15     2308     B"
      ]
     },
     "execution_count": 48,
     "metadata": {},
     "output_type": "execute_result"
    }
   ],
   "source": [
    "orders.head()"
   ]
  },
  {
   "cell_type": "code",
   "execution_count": 49,
   "id": "a8b75d83",
   "metadata": {},
   "outputs": [
    {
     "name": "stdout",
     "output_type": "stream",
     "text": [
      "1099    148427295\n",
      "18      199603092\n",
      "928     204675465\n",
      "23      237748145\n",
      "37      249864742\n",
      "dtype: int64\n",
      "74\n"
     ]
    }
   ],
   "source": [
    "users_with_many_orders = pd.concat([orders_by_users_a[orders_by_users_a['orders'] > 2]['user_id'],\n",
    "                                    orders_by_users_b[orders_by_users_b['orders'] > 2]['user_id']],axis=0)\n",
    "\n",
    "users_with_expensive_orders = orders[orders['revenue'] > 28000]['visitor_id']\n",
    "\n",
    "abnormal_users = (pd.concat([users_with_many_orders, users_with_expensive_orders], axis=0)\n",
    "    .drop_duplicates()\n",
    "    .sort_values())\n",
    "\n",
    "print(abnormal_users.head(5))\n",
    "print(abnormal_users.shape[0]) "
   ]
  },
  {
   "cell_type": "markdown",
   "id": "ed61b16f",
   "metadata": {},
   "source": [
    "74 аномальных пользователя. Посчитаем статистическую значимость различий в конверсии между группами по «очищенным» данным. Подготовим данные:"
   ]
  },
  {
   "cell_type": "code",
   "execution_count": 50,
   "id": "9c74ecd5",
   "metadata": {},
   "outputs": [],
   "source": [
    "# чистые данные сегмента А:\n",
    "sample_a_filtered = pd.concat(\n",
    "    [orders_by_users_a[np.logical_not(orders_by_users_a['user_id']\n",
    "                                      .isin(abnormal_users))]['orders'], pd.Series(\n",
    "        0,index=np.arange(data['visitors_per_date_a'].sum() - len(orders_by_users_a['orders'])), name='orders')], axis=0)\n",
    "# чистые данные сегмента B:\n",
    "sample_b_filtered = pd.concat(\n",
    "    [orders_by_users_b[np.logical_not(orders_by_users_b['user_id']\n",
    "                                      .isin(abnormal_users))]['orders'], pd.Series(\n",
    "        0,index=np.arange(data['visitors_per_date_b'].sum() - len(orders_by_users_b['orders'])), name='orders')], axis=0)"
   ]
  },
  {
   "cell_type": "markdown",
   "id": "a09209e0",
   "metadata": {},
   "source": [
    "Применим статистический критерий Манна-Уитни к полученным выборкам. \n",
    "\n",
    "Сформулируем нулевую гипотезу, аналогично с \"сырыми\" данными: \"Между группами А и В нету статистически значимых различий\". Альтернативная гипотеза: \"Между группами А и В есть статистически значимые различия\".\n",
    "\n"
   ]
  },
  {
   "cell_type": "code",
   "execution_count": 51,
   "id": "60a42858",
   "metadata": {
    "scrolled": true
   },
   "outputs": [
    {
     "name": "stdout",
     "output_type": "stream",
     "text": [
      "alpha = 0.05\n",
      "p-value = 0.013\n"
     ]
    }
   ],
   "source": [
    "print(\"alpha =\", 0.05)\n",
    "print(\"p-value = {0:.3f}\".format(stats.mannwhitneyu(sample_a_filtered, sample_b_filtered)[1])) "
   ]
  },
  {
   "cell_type": "markdown",
   "id": "c6a70630",
   "metadata": {},
   "source": [
    "Значение p-value меньше критического уровня, значит мы отвергаем нулевую гипотезу - между группами А и В есть статистически значимые различия."
   ]
  },
  {
   "cell_type": "markdown",
   "id": "9b290427",
   "metadata": {},
   "source": [
    "Найдем различие в конверсии между группами (прирост конверсии B к А):"
   ]
  },
  {
   "cell_type": "code",
   "execution_count": 52,
   "id": "1096680c",
   "metadata": {
    "scrolled": true
   },
   "outputs": [
    {
     "name": "stdout",
     "output_type": "stream",
     "text": [
      "Различие в конверсии между группами в процентах: = 17.27\n"
     ]
    }
   ],
   "source": [
    "print(\"Различие в конверсии между группами в процентах: = {0:.2f}\".format((sample_b_filtered.mean() / sample_a_filtered.mean() - 1)*100)) "
   ]
  },
  {
   "cell_type": "markdown",
   "id": "920de048",
   "metadata": {},
   "source": [
    "#### Выводы:\n",
    "- Как и с \"сырыми\" данными нулевую гипотезу удалось отвергнуть.\n",
    "- В очищенных данных есть различие в конверсиях обеих групп.\n",
    "- Различие в конверсии увеличилось на примерно 4 процентных пункта. (с 13.81% до 17.27%)\n"
   ]
  },
  {
   "cell_type": "markdown",
   "id": "de1918ad",
   "metadata": {},
   "source": [
    "Посчитаем статистическую значимость различий в среднем чеке заказа между группами по «очищенным» данным. Как и в случае с конверсиями, для чеков оставим те же гипотезы, что и в \"сырых\" данных. Нулевая гипотеза будет звучать: \"Между группами А и В нету статистически значимых различий\". Альтернативная гипотеза: \"Между группами А и В есть статистически значимые различия\".\n",
    "\n",
    "\n",
    "Критический уровень статистической значимости примем в 0.05:"
   ]
  },
  {
   "cell_type": "code",
   "execution_count": 53,
   "id": "ca6f97ae",
   "metadata": {
    "scrolled": true
   },
   "outputs": [
    {
     "name": "stdout",
     "output_type": "stream",
     "text": [
      "alpha = 0.05\n",
      "p-value = 0.738\n"
     ]
    }
   ],
   "source": [
    "print(\"alpha =\", 0.05)\n",
    "print(\"p-value = {0:.3f}\".format(stats.mannwhitneyu(orders[\n",
    "    np.logical_and(orders['group'] == 'A', np.logical_not(orders['visitor_id'].isin(abnormal_users)))]['revenue'],\n",
    "                                          orders[np.logical_and(orders['group'] == 'B', np.logical_not(\n",
    "                                              orders['visitor_id'].isin(abnormal_users)))]['revenue'])[1]))"
   ]
  },
  {
   "cell_type": "markdown",
   "id": "09b2ddf2",
   "metadata": {},
   "source": [
    "Как и в сырых данных, значение p-value выше критического уровня, значит мы не можем отвергнуть нулевую гипотезу. Найдем относительное различие среднего чека между сегментами:"
   ]
  },
  {
   "cell_type": "code",
   "execution_count": 54,
   "id": "ea70499a",
   "metadata": {},
   "outputs": [
    {
     "name": "stdout",
     "output_type": "stream",
     "text": [
      "Относительное различие среднего чека в процентах  = -1.96\n"
     ]
    }
   ],
   "source": [
    "print(\"Относительное различие среднего чека в процентах  = {0:.2f}\".format((orders[np.logical_and(\n",
    "    orders['group'] == 'B', np.logical_not(\n",
    "        orders['visitor_id'].isin(abnormal_users)))]['revenue'].mean()/orders[np.logical_and(\n",
    "    orders['group'] == 'A', np.logical_not(orders['visitor_id'].isin(abnormal_users)))]['revenue'].mean()- 1)*100)) "
   ]
  },
  {
   "cell_type": "markdown",
   "id": "75dcf2aa",
   "metadata": {},
   "source": [
    "#### Выводы:\n",
    "- p-value больше критической значимости.\n",
    "- Не удалось отвергнуть нулевую гипотезу.\n",
    "- Разница в среднем чеке составляет меньше 2% (в отличии от около 26% в сырых данных).\n",
    "- Выбрасывание аномальных пользователей сильно скоратило разницу в среднем чеке между группами."
   ]
  },
  {
   "cell_type": "markdown",
   "id": "ba17783a",
   "metadata": {},
   "source": [
    "#  [Общий вывод](#back)\n",
    "<a id='end'></a>"
   ]
  },
  {
   "cell_type": "markdown",
   "id": "51d16cce",
   "metadata": {},
   "source": [
    "- Очевидно, что различие между данными конверсии групп присутствует. \n",
    "- Конверсия сегмента B выше конверсии группы А и по \"сырым\" данным, и без аномальных значений.\n",
    "- Разница в среднем чеке между сегментами отсутсвует, не смотря на большую разницу в \"сырых\" данных.\n",
    "- Сырые данные сильно искажены заказом на 1.3 миллиона. \n",
    "- Оценивая графики, можно сказать что конверсия группы B больше, средний чек примерно одинаковый, если не учитывать заказ на 1.3 миллиона.\n",
    "- Учитывая, что расчеты не противоречат графикам, можно сделать вывод, что тест можно останавливать.\n",
    "- Тест следует признать успешным - сегмент B, очевидно, эффективнее сегмента А.\n",
    "- Можно переходить к следующей гипотезе)\n"
   ]
  }
 ],
 "metadata": {
  "ExecuteTimeLog": [
   {
    "duration": 1543,
    "start_time": "2022-09-16T15:30:42.318Z"
   },
   {
    "duration": 11,
    "start_time": "2022-09-16T15:30:43.863Z"
   },
   {
    "duration": 21,
    "start_time": "2022-09-16T15:30:43.875Z"
   },
   {
    "duration": 5,
    "start_time": "2022-09-16T15:30:43.898Z"
   },
   {
    "duration": 10,
    "start_time": "2022-09-16T15:30:43.905Z"
   },
   {
    "duration": 10,
    "start_time": "2022-09-16T15:30:43.916Z"
   },
   {
    "duration": 11,
    "start_time": "2022-09-16T15:30:43.927Z"
   },
   {
    "duration": 11,
    "start_time": "2022-09-16T15:30:43.940Z"
   },
   {
    "duration": 11,
    "start_time": "2022-09-16T15:30:43.952Z"
   },
   {
    "duration": 36,
    "start_time": "2022-09-16T15:30:43.965Z"
   },
   {
    "duration": 7,
    "start_time": "2022-09-16T15:30:44.002Z"
   },
   {
    "duration": 15,
    "start_time": "2022-09-16T15:30:44.011Z"
   },
   {
    "duration": 10,
    "start_time": "2022-09-16T15:30:44.027Z"
   },
   {
    "duration": 17,
    "start_time": "2022-09-16T15:30:44.039Z"
   },
   {
    "duration": 7,
    "start_time": "2022-09-16T15:30:44.057Z"
   },
   {
    "duration": 8,
    "start_time": "2022-09-16T15:30:44.065Z"
   },
   {
    "duration": 30,
    "start_time": "2022-09-16T15:30:44.074Z"
   },
   {
    "duration": 3,
    "start_time": "2022-09-16T15:30:44.106Z"
   },
   {
    "duration": 27,
    "start_time": "2022-09-16T15:30:44.110Z"
   },
   {
    "duration": 15,
    "start_time": "2022-09-16T15:30:44.139Z"
   },
   {
    "duration": 19,
    "start_time": "2022-09-16T15:30:44.156Z"
   },
   {
    "duration": 14,
    "start_time": "2022-09-16T15:30:44.177Z"
   },
   {
    "duration": 22,
    "start_time": "2022-09-16T15:30:44.193Z"
   },
   {
    "duration": 13,
    "start_time": "2022-09-16T15:30:44.217Z"
   },
   {
    "duration": 12,
    "start_time": "2022-09-16T15:30:44.232Z"
   },
   {
    "duration": 10,
    "start_time": "2022-09-16T15:30:44.246Z"
   },
   {
    "duration": 12,
    "start_time": "2022-09-16T15:30:44.258Z"
   },
   {
    "duration": 351,
    "start_time": "2022-09-16T15:30:44.273Z"
   },
   {
    "duration": 367,
    "start_time": "2022-09-16T15:30:44.626Z"
   },
   {
    "duration": 14,
    "start_time": "2022-09-16T15:30:44.994Z"
   },
   {
    "duration": 34,
    "start_time": "2022-09-16T15:30:45.010Z"
   },
   {
    "duration": 284,
    "start_time": "2022-09-16T15:30:45.046Z"
   },
   {
    "duration": 406,
    "start_time": "2022-09-16T15:30:45.332Z"
   },
   {
    "duration": 288,
    "start_time": "2022-09-16T15:30:45.739Z"
   },
   {
    "duration": 343,
    "start_time": "2022-09-16T15:30:46.029Z"
   },
   {
    "duration": 28,
    "start_time": "2022-09-16T15:30:46.373Z"
   },
   {
    "duration": 168,
    "start_time": "2022-09-16T15:30:46.403Z"
   },
   {
    "duration": 4,
    "start_time": "2022-09-16T15:30:46.573Z"
   },
   {
    "duration": 200,
    "start_time": "2022-09-16T15:30:46.579Z"
   },
   {
    "duration": 261,
    "start_time": "2022-09-16T15:30:46.780Z"
   },
   {
    "duration": 4,
    "start_time": "2022-09-16T15:30:47.043Z"
   },
   {
    "duration": 226,
    "start_time": "2022-09-16T15:30:47.048Z"
   },
   {
    "duration": 147,
    "start_time": "2022-09-16T15:30:47.275Z"
   },
   {
    "duration": 24,
    "start_time": "2022-09-16T15:30:47.423Z"
   },
   {
    "duration": 4,
    "start_time": "2022-09-16T15:30:47.456Z"
   },
   {
    "duration": 11,
    "start_time": "2022-09-16T15:30:47.462Z"
   },
   {
    "duration": 6,
    "start_time": "2022-09-16T15:30:47.475Z"
   },
   {
    "duration": 8,
    "start_time": "2022-09-16T15:30:47.500Z"
   },
   {
    "duration": 8,
    "start_time": "2022-09-16T15:30:47.509Z"
   },
   {
    "duration": 13,
    "start_time": "2022-09-16T15:30:47.519Z"
   },
   {
    "duration": 18,
    "start_time": "2022-09-16T15:30:47.533Z"
   },
   {
    "duration": 3,
    "start_time": "2022-09-16T15:30:47.553Z"
   },
   {
    "duration": 12,
    "start_time": "2022-09-16T15:30:47.557Z"
   },
   {
    "duration": 33,
    "start_time": "2022-09-16T15:30:47.570Z"
   }
  ],
  "kernelspec": {
   "display_name": "Python 3 (ipykernel)",
   "language": "python",
   "name": "python3"
  },
  "language_info": {
   "codemirror_mode": {
    "name": "ipython",
    "version": 3
   },
   "file_extension": ".py",
   "mimetype": "text/x-python",
   "name": "python",
   "nbconvert_exporter": "python",
   "pygments_lexer": "ipython3",
   "version": "3.9.13"
  },
  "toc": {
   "base_numbering": 1,
   "nav_menu": {},
   "number_sections": true,
   "sideBar": true,
   "skip_h1_title": true,
   "title_cell": "Table of Contents",
   "title_sidebar": "Contents",
   "toc_cell": false,
   "toc_position": {},
   "toc_section_display": true,
   "toc_window_display": false
  }
 },
 "nbformat": 4,
 "nbformat_minor": 5
}
